{
 "cells": [
  {
   "cell_type": "code",
   "execution_count": 1,
   "metadata": {},
   "outputs": [],
   "source": [
    "# Import dependencies\n",
    "from matplotlib import pyplot as plt\n",
    "from scipy.stats import linregress\n",
    "import numpy as np\n",
    "import pandas as pd"
   ]
  },
  {
   "cell_type": "code",
   "execution_count": 2,
   "metadata": {},
   "outputs": [
    {
     "name": "stdout",
     "output_type": "stream",
     "text": [
      "         LA-Housing    Dates\n",
      "0          852567.0   2020-1\n",
      "1          869233.0   2020-2\n",
      "2          888867.0   2020-3\n",
      "3          890933.0   2020-4\n",
      "4          887267.0   2020-5\n",
      "...             ...      ...\n",
      "1032214         NaN  2021-11\n",
      "1032215         NaN  2021-12\n",
      "1032216         NaN   2022-1\n",
      "1032217         NaN   2022-2\n",
      "1032218         NaN   2022-3\n",
      "\n",
      "[1032219 rows x 2 columns]\n"
     ]
    },
    {
     "data": {
      "text/html": [
       "<div>\n",
       "<style scoped>\n",
       "    .dataframe tbody tr th:only-of-type {\n",
       "        vertical-align: middle;\n",
       "    }\n",
       "\n",
       "    .dataframe tbody tr th {\n",
       "        vertical-align: top;\n",
       "    }\n",
       "\n",
       "    .dataframe thead th {\n",
       "        text-align: right;\n",
       "    }\n",
       "</style>\n",
       "<table border=\"1\" class=\"dataframe\">\n",
       "  <thead>\n",
       "    <tr style=\"text-align: right;\">\n",
       "      <th></th>\n",
       "      <th>LA-Housing</th>\n",
       "      <th>Dates</th>\n",
       "    </tr>\n",
       "  </thead>\n",
       "  <tbody>\n",
       "    <tr>\n",
       "      <th>0</th>\n",
       "      <td>852567.0</td>\n",
       "      <td>2020-1</td>\n",
       "    </tr>\n",
       "    <tr>\n",
       "      <th>1</th>\n",
       "      <td>869233.0</td>\n",
       "      <td>2020-2</td>\n",
       "    </tr>\n",
       "    <tr>\n",
       "      <th>2</th>\n",
       "      <td>888867.0</td>\n",
       "      <td>2020-3</td>\n",
       "    </tr>\n",
       "    <tr>\n",
       "      <th>3</th>\n",
       "      <td>890933.0</td>\n",
       "      <td>2020-4</td>\n",
       "    </tr>\n",
       "    <tr>\n",
       "      <th>4</th>\n",
       "      <td>887267.0</td>\n",
       "      <td>2020-5</td>\n",
       "    </tr>\n",
       "  </tbody>\n",
       "</table>\n",
       "</div>"
      ],
      "text/plain": [
       "   LA-Housing   Dates\n",
       "0    852567.0  2020-1\n",
       "1    869233.0  2020-2\n",
       "2    888867.0  2020-3\n",
       "3    890933.0  2020-4\n",
       "4    887267.0  2020-5"
      ]
     },
     "execution_count": 2,
     "metadata": {},
     "output_type": "execute_result"
    }
   ],
   "source": [
    "data = pd.read_csv(\"C:\\\\Users\\\\Angiescomputer\\\\Desktop\\\\New Housing Data\\\\Los Angeles Housing.csv\")\n",
    "sales_dataframe = pd.read_csv(\"C:\\\\Users\\\\Angiescomputer\\\\Desktop\\\\New Housing Data\\\\Los Angeles Housing.csv\")\n",
    "#sales_dataframe.describe()\n",
    "print(sales_dataframe)\n",
    "sales_dataframe.head()\n"
   ]
  },
  {
   "cell_type": "code",
   "execution_count": 21,
   "metadata": {},
   "outputs": [
    {
     "data": {
      "text/html": [
       "<div>\n",
       "<style scoped>\n",
       "    .dataframe tbody tr th:only-of-type {\n",
       "        vertical-align: middle;\n",
       "    }\n",
       "\n",
       "    .dataframe tbody tr th {\n",
       "        vertical-align: top;\n",
       "    }\n",
       "\n",
       "    .dataframe thead th {\n",
       "        text-align: right;\n",
       "    }\n",
       "</style>\n",
       "<table border=\"1\" class=\"dataframe\">\n",
       "  <thead>\n",
       "    <tr style=\"text-align: right;\">\n",
       "      <th></th>\n",
       "      <th></th>\n",
       "    </tr>\n",
       "    <tr>\n",
       "      <th>LA-Housing</th>\n",
       "      <th>Dates</th>\n",
       "    </tr>\n",
       "  </thead>\n",
       "  <tbody>\n",
       "    <tr>\n",
       "      <th>852567.0</th>\n",
       "      <th>2020-1</th>\n",
       "    </tr>\n",
       "    <tr>\n",
       "      <th>869233.0</th>\n",
       "      <th>2020-2</th>\n",
       "    </tr>\n",
       "    <tr>\n",
       "      <th>887267.0</th>\n",
       "      <th>2020-5</th>\n",
       "    </tr>\n",
       "    <tr>\n",
       "      <th>888867.0</th>\n",
       "      <th>2020-3</th>\n",
       "    </tr>\n",
       "    <tr>\n",
       "      <th>890933.0</th>\n",
       "      <th>2020-4</th>\n",
       "    </tr>\n",
       "  </tbody>\n",
       "</table>\n",
       "</div>"
      ],
      "text/plain": [
       "Empty DataFrame\n",
       "Columns: []\n",
       "Index: [(852567.0, 2020-1), (869233.0, 2020-2), (887267.0, 2020-5), (888867.0, 2020-3), (890933.0, 2020-4)]"
      ]
     },
     "execution_count": 21,
     "metadata": {},
     "output_type": "execute_result"
    }
   ],
   "source": [
    "sales_dataframe_group = sales_dataframe.groupby([\"LA-Housing\",\"Dates\"])\n",
    "\n",
    "LAsales_dataframe = sales_dataframe_group.sum()\n",
    "LAsales_dataframe.head()"
   ]
  },
  {
   "cell_type": "code",
   "execution_count": 39,
   "metadata": {},
   "outputs": [
    {
     "data": {
      "image/png": "[encoded data removed]",
      "text/plain": [
       "<Figure size 432x288 with 1 Axes>"
      ]
     },
     "metadata": {
      "needs_background": "light"
     },
     "output_type": "display_data"
    }
   ],
   "source": [
    "Housing = [324117,328044,338289,345674,353588,363048,374143,383719,390687,396677,401091,401300,403157,413173,\n",
    "430173,454950,476300,492933,502235,505171,512787,518182,523577,523993,524330,533000,554330]\n",
    "Dates = [\"2020-1\",\"2020-2\",\"2020-3\",\"2020-4\",\"2020-5\",\"2020-6\",\"2020-7\",\"2020-8\",\"2020-9\",\"2020-10\",\"2020-11\",\"2020-12\",\"2021-1\",\"2021-2\",\"2021-3\",\n",
    "\"2021-4\",\"2021-5\",\"2021-6\",\"2021-7\",\"2021-8\",\"2021-9\",\"2021-10\",\"2021-11\",\"2021-12\",\"2022-1\",\"2022-2\",\"2022-3\"]\n",
    "plt.plot(Housing,Dates, color='red', marker='o')\n",
    "plt.title('Los Angeles housing Market', fontsize=14)\n",
    "plt.xlabel('Housing', fontsize=14)\n",
    "plt.ylabel('Dates', fontsize=10)\n",
    "plt.grid(True)\n",
    "plt.show()"
   ]
  },
  {
   "cell_type": "code",
   "execution_count": null,
   "metadata": {},
   "outputs": [
    {
     "name": "stdout",
     "output_type": "stream",
     "text": [
      "    Austin    Dates\n",
      "0   324117   2020-1\n",
      "1   328044   2020-2\n",
      "2   338289   2020-3\n",
      "3   345674   2020-4\n",
      "4   353588   2020-5\n",
      "5   363048   2020-6\n",
      "6   374143   2020-7\n",
      "7   383719   2020-8\n",
      "8   390687   2020-9\n",
      "9   396677  2020-10\n",
      "10  401091  2020-11\n",
      "11  401300  2020-12\n",
      "12  403157   2021-1\n",
      "13  413173   2021-2\n",
      "14  430173   2021-3\n",
      "15  454950   2021-4\n",
      "16  476300   2021-5\n",
      "17  492933   2021-6\n",
      "18  502235   2021-7\n",
      "19  505171   2021-8\n",
      "20  512787   2021-9\n",
      "21  518182  2021-10\n",
      "22  523577  2021-11\n",
      "23  523993  2021-12\n",
      "24  524330   2022-1\n",
      "25  533000   2022-2\n",
      "26  554330   2022-3\n"
     ]
    }
   ],
   "source": [
    "data = pd.read_csv(\"C:\\\\Users\\\\Angiescomputer\\\\Desktop\\\\Sat-class\\\\Austin.csv\")\n",
    "Austin_dataframe = pd.read_csv(\"C:\\\\Users\\\\Angiescomputer\\\\Desktop\\\\Sat-class\\\\Austin.csv\")\n",
    "#sales_dataframe.describe()\n",
    "print(Austin_dataframe)\n"
   ]
  },
  {
   "cell_type": "code",
   "execution_count": null,
   "metadata": {},
   "outputs": [
    {
     "data": {
      "text/html": [
       "<div>\n",
       "<style scoped>\n",
       "    .dataframe tbody tr th:only-of-type {\n",
       "        vertical-align: middle;\n",
       "    }\n",
       "\n",
       "    .dataframe tbody tr th {\n",
       "        vertical-align: top;\n",
       "    }\n",
       "\n",
       "    .dataframe thead th {\n",
       "        text-align: right;\n",
       "    }\n",
       "</style>\n",
       "<table border=\"1\" class=\"dataframe\">\n",
       "  <thead>\n",
       "    <tr style=\"text-align: right;\">\n",
       "      <th></th>\n",
       "      <th></th>\n",
       "    </tr>\n",
       "    <tr>\n",
       "      <th>Austin</th>\n",
       "      <th>Dates</th>\n",
       "    </tr>\n",
       "  </thead>\n",
       "  <tbody>\n",
       "    <tr>\n",
       "      <th>324117</th>\n",
       "      <th>2020-1</th>\n",
       "    </tr>\n",
       "    <tr>\n",
       "      <th>328044</th>\n",
       "      <th>2020-2</th>\n",
       "    </tr>\n",
       "    <tr>\n",
       "      <th>338289</th>\n",
       "      <th>2020-3</th>\n",
       "    </tr>\n",
       "    <tr>\n",
       "      <th>345674</th>\n",
       "      <th>2020-4</th>\n",
       "    </tr>\n",
       "    <tr>\n",
       "      <th>353588</th>\n",
       "      <th>2020-5</th>\n",
       "    </tr>\n",
       "  </tbody>\n",
       "</table>\n",
       "</div>"
      ],
      "text/plain": [
       "Empty DataFrame\n",
       "Columns: []\n",
       "Index: [(324117, 2020-1), (328044, 2020-2), (338289, 2020-3), (345674, 2020-4), (353588, 2020-5)]"
      ]
     },
     "execution_count": 138,
     "metadata": {},
     "output_type": "execute_result"
    }
   ],
   "source": [
    "Austin_dataframe_group = Austin_dataframe.groupby([\"Austin\",\"Dates\"])\n",
    "\n",
    "Austin_dataframe = Austin_dataframe_group.sum()\n",
    "Austin_dataframe\n",
    "Austin_dataframe.head()\n",
    "\n",
    "\n",
    "\n"
   ]
  },
  {
   "cell_type": "code",
   "execution_count": 40,
   "metadata": {},
   "outputs": [
    {
     "data": {
      "image/png": "[encoded data removed]",
      "text/plain": [
       "<Figure size 432x288 with 1 Axes>"
      ]
     },
     "metadata": {
      "needs_background": "light"
     },
     "output_type": "display_data"
    }
   ],
   "source": [
    "Housing = [324117,328044,338289,345674,353588,363048,374143,383719,390687,396677,401091,401300,403157,413173,430173,454950,\t476300,492933,502235,505171,512787,518182,523577,523993,524330,533000,554330]\n",
    "Dates = [\"2020-1\",\"2020-2\",\"2020-3\",\"2020-4\",\"2020-5\",\"2020-6\",\"2020-7\",\"2020-8\",\"2020-9\",\"2020-10\",\"2020-11\",\"2020-12\",\"2021-1\",\"2021-2\",\"2021-3\",\n",
    "\"2021-4\",\"2021-5\",\"2021-6\",\"2021-7\",\"2021-8\",\"2021-9\",\"2021-10\",\"2021-11\",\"2021-12\",\"2022-1\",\"2022-2\",\"2022-3\"]\n",
    "plt.plot(Housing,Dates, color='red', marker='o')\n",
    "plt.title('Austin housing Market', fontsize=14)\n",
    "plt.xlabel('Housing', fontsize=14)\n",
    "plt.ylabel('Dates', fontsize=10)\n",
    "plt.grid(True)\n",
    "plt.show()"
   ]
  },
  {
   "cell_type": "code",
   "execution_count": 41,
   "metadata": {},
   "outputs": [
    {
     "name": "stdout",
     "output_type": "stream",
     "text": [
      "    New York  Unnamed: 1     Date\n",
      "0   577667.0         NaN   2020-1\n",
      "1   579333.0         NaN   2020-2\n",
      "2   586000.0         NaN   2020-3\n",
      "3   594000.0         NaN   2020-4\n",
      "4   599000.0         NaN   2020-5\n",
      "5   601433.0         NaN   2020-6\n",
      "6   611733.0         NaN   2020-7\n",
      "7   628400.0         NaN   2020-8\n",
      "8   642633.0         NaN   2020-9\n",
      "9   649333.0         NaN  2020-10\n",
      "10  652667.0         NaN  2020-11\n",
      "11  656333.0         NaN  2020-12\n",
      "12  662967.0         NaN   2021-1\n",
      "13  668300.0         NaN   2021-2\n",
      "14  673300.0         NaN   2021-3\n",
      "15  676000.0         NaN   2021-4\n",
      "16  676000.0         NaN   2021-5\n",
      "17  670133.0         NaN   2021-6\n",
      "18  660467.0         NaN   2021-7\n",
      "19  648133.0         NaN   2021-8\n",
      "20  641667.0         NaN   2021-9\n",
      "21  638667.0         NaN  2021-10\n",
      "22  642333.0         NaN  2021-11\n",
      "23  646296.0         NaN  2021-12\n",
      "24  655629.0         NaN   2022-1\n",
      "25  667629.0         NaN   2022-2\n",
      "26  682000.0         NaN   2022-3\n",
      "27       NaN         NaN   2022-3\n"
     ]
    }
   ],
   "source": [
    "data = pd.read_csv(\"C:\\\\Users\\Angiescomputer\\\\Desktop\\\\New Housing Data\\\\Newyork Housing.csv\")\n",
    "NYhousing_dataframe = pd.read_csv(\"C:\\\\Users\\Angiescomputer\\\\Desktop\\\\New Housing Data\\\\Newyork Housing.csv\")\n",
    "#sales_dataframe.describe()\n",
    "print(NYhousing_dataframe)"
   ]
  },
  {
   "cell_type": "code",
   "execution_count": 42,
   "metadata": {},
   "outputs": [
    {
     "data": {
      "image/png": "[encoded data removed]",
      "text/plain": [
       "<Figure size 432x288 with 1 Axes>"
      ]
     },
     "metadata": {
      "needs_background": "light"
     },
     "output_type": "display_data"
    }
   ],
   "source": [
    "Housing = [577667,579333,586000,594000,599000,601433,611733,628400,642633,649333,652667,656333,662967,668300,673300,676000,\t676000,670133,660467,648133,641667,638667,642333,646296,655629,667629,682000]\n",
    "Dates = [\"2020-1\",\"2020-2\",\"2020-3\",\"2020-4\",\"2020-5\",\"2020-6\",\"2020-7\",\"2020-8\",\"2020-9\",\"2020-10\",\"2020-11\",\"2020-12\",\"2021-1\",\"2021-2\",\"2021-3\",\n",
    "\"2021-4\",\"2021-5\",\"2021-6\",\"2021-7\",\"2021-8\",\"2021-9\",\"2021-10\",\"2021-11\",\"2021-12\",\"2022-1\",\"2022-2\",\"2022-3\"]\n",
    "plt.plot(Housing,Dates, color='red', marker='o')\n",
    "plt.title('New York housing Market', fontsize=14)\n",
    "plt.xlabel('Housing', fontsize=14)\n",
    "plt.ylabel('Dates', fontsize=10)\n",
    "plt.grid(True)\n",
    "plt.show()"
   ]
  }
 ],
 "metadata": {
  "interpreter": {
   "hash": "03e39f1ebd3f6c73b7cbddb4215669feac73e1614f950e94d33f591d445c5492"
  },
  "kernelspec": {
   "display_name": "Python 3 (ipykernel)",
   "language": "python",
   "name": "python3"
  },
  "language_info": {
   "codemirror_mode": {
    "name": "ipython",
    "version": 3
   },
   "file_extension": ".py",
   "mimetype": "text/x-python",
   "name": "python",
   "nbconvert_exporter": "python",
   "pygments_lexer": "ipython3",
   "version": "3.9.7"
  }
 },
 "nbformat": 4,
 "nbformat_minor": 2
}
