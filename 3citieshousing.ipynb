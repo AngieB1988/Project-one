{
 "cells": [
  {
   "cell_type": "code",
   "execution_count": 18,
   "metadata": {},
   "outputs": [],
   "source": [
    "# Import dependencies\n",
    "from matplotlib import pyplot as plt\n",
    "from scipy.stats import linregress\n",
    "import numpy as np\n",
    "import pandas as pd"
   ]
  },
  {
   "cell_type": "code",
   "execution_count": 19,
   "metadata": {
    "scrolled": true
   },
   "outputs": [
    {
     "name": "stderr",
     "output_type": "stream",
     "text": [
      "C:\\Users\\Angiescomputer\\anaconda3\\lib\\site-packages\\IPython\\core\\interactiveshell.py:3444: DtypeWarning: Columns (0,1,2,3,4,5,6,7,8,9,10,11,12) have mixed types.Specify dtype option on import or set low_memory=False.\n",
      "  exec(code_obj, self.user_global_ns, self.user_ns)\n"
     ]
    },
    {
     "name": "stdout",
     "output_type": "stream",
     "text": [
      "        Unnamed: 0                  2019                2019.1  \\\n",
      "0          BOROUGH   MINIMUM SALE PRICE    AVERAGE SALE PRICE    \n",
      "1        Manhattan               375,000             9,256,384   \n",
      "2        Manhattan               425,000             5,454,151   \n",
      "3        Manhattan               531,527             4,400,861   \n",
      "4            Bronx               200,000               548,758   \n",
      "...            ...                   ...                   ...   \n",
      "1048568        NaN                   NaN                   NaN   \n",
      "1048569        NaN                   NaN                   NaN   \n",
      "1048570        NaN                   NaN                   NaN   \n",
      "1048571        NaN                   NaN                   NaN   \n",
      "1048572        NaN                   NaN                   NaN   \n",
      "\n",
      "                      2019.2                2019.3                  2020  \\\n",
      "0         MEDIAN SALE PRICE    MAXIMUM SALE PRICE    MINIMUM SALE PRICE    \n",
      "1                  7,200,000            77,100,000             1,250,000   \n",
      "2                  3,925,000            25,500,000               642,000   \n",
      "3                  2,375,000            24,000,000               319,393   \n",
      "4                    485,000             5,000,000               200,000   \n",
      "...                      ...                   ...                   ...   \n",
      "1048568                  NaN                   NaN                   NaN   \n",
      "1048569                  NaN                   NaN                   NaN   \n",
      "1048570                  NaN                   NaN                   NaN   \n",
      "1048571                  NaN                   NaN                   NaN   \n",
      "1048572                  NaN                   NaN                   NaN   \n",
      "\n",
      "                       2020.1               2020.2                2020.3  \\\n",
      "0         AVERAGE SALE PRICE    MEDIAN SALE PRICE    MAXIMUM SALE PRICE    \n",
      "1                  10,068,400            8,300,000            38,000,000   \n",
      "2                   5,899,924            4,225,000            31,000,000   \n",
      "3                   3,511,994            2,650,000             8,405,000   \n",
      "4                     563,110              520,000             4,325,000   \n",
      "...                       ...                  ...                   ...   \n",
      "1048568                   NaN                  NaN                   NaN   \n",
      "1048569                   NaN                  NaN                   NaN   \n",
      "1048570                   NaN                  NaN                   NaN   \n",
      "1048571                   NaN                  NaN                   NaN   \n",
      "1048572                   NaN                  NaN                   NaN   \n",
      "\n",
      "                         2021                2021.1               2021.2  \\\n",
      "0         MINIMUM SALE PRICE    AVERAGE SALE PRICE    MEDIAN SALE PRICE    \n",
      "1                     304,200             9,434,175            6,971,500   \n",
      "2                     360,000             5,683,509            4,025,000   \n",
      "3                     860,000             4,230,067            2,885,000   \n",
      "4                     200,000               644,165              562,500   \n",
      "...                       ...                   ...                  ...   \n",
      "1048568                   NaN                   NaN                  NaN   \n",
      "1048569                   NaN                   NaN                  NaN   \n",
      "1048570                   NaN                   NaN                  NaN   \n",
      "1048571                   NaN                   NaN                  NaN   \n",
      "1048572                   NaN                   NaN                  NaN   \n",
      "\n",
      "                       2021.3  \n",
      "0         MAXIMUM SALE PRICE   \n",
      "1                  59,000,000  \n",
      "2                  53,500,000  \n",
      "3                  16,000,000  \n",
      "4                   6,100,000  \n",
      "...                       ...  \n",
      "1048568                   NaN  \n",
      "1048569                   NaN  \n",
      "1048570                   NaN  \n",
      "1048571                   NaN  \n",
      "1048572           375022612.0  \n",
      "\n",
      "[1048573 rows x 13 columns]\n"
     ]
    }
   ],
   "source": [
    "data = pd.read_csv(\"C:\\\\Users\\\\Angiescomputer\\\\Desktop\\\\Sat-class\\\\Totalsales19-21.csv\")\n",
    "Totalsales_dataframe = pd.read_csv(\"C:\\\\Users\\\\Angiescomputer\\\\Desktop\\\\Sat-class\\\\Totalsales19-21.csv\")\n",
    "#Totalsales_dataframe.describe()\n",
    "print(Totalsales_dataframe)"
   ]
  },
  {
   "cell_type": "code",
   "execution_count": 20,
   "metadata": {
    "scrolled": false
   },
   "outputs": [
    {
     "name": "stdout",
     "output_type": "stream",
     "text": [
      "                   2019                2019.1               2019.2  \\\n",
      "0   MINIMUM SALE PRICE    AVERAGE SALE PRICE    MEDIAN SALE PRICE    \n",
      "1             4,347,527            32,323,823           24,684,939   \n",
      "\n",
      "                 2019.3                  2020                2020.1  \\\n",
      "0   MAXIMUM SALE PRICE    MINIMUM SALE PRICE    AVERAGE SALE PRICE    \n",
      "1           399,963,350             5,436,123            33,634,575   \n",
      "\n",
      "                2020.2                2020.3                  2021  \\\n",
      "0   MEDIAN SALE PRICE    MAXIMUM SALE PRICE    MINIMUM SALE PRICE    \n",
      "1           27,031,520           451,112,000             4,614,700   \n",
      "\n",
      "                 2021.1               2021.2                2021.3  \n",
      "0   AVERAGE SALE PRICE    MEDIAN SALE PRICE    MAXIMUM SALE PRICE   \n",
      "1            34,006,950           26,780,085           375,020,591  \n"
     ]
    }
   ],
   "source": [
    "data = pd.read_csv(\"C:\\\\Users\\\\Angiescomputer\\\\Desktop\\\\Sat-class\\\\totalsumsny.csv\")\n",
    "Total_dataframe = pd.read_csv(\"C:\\\\Users\\\\Angiescomputer\\\\Desktop\\\\Sat-class\\\\totalsumsny.csv\")\n",
    "#Total_dataframe.describe()\n",
    "print(Total_dataframe)"
   ]
  },
  {
   "cell_type": "code",
   "execution_count": 35,
   "metadata": {},
   "outputs": [
    {
     "data": {
      "image/png": "[encoded data removed]",
      "text/plain": [
       "<Figure size 432x288 with 1 Axes>"
      ]
     },
     "metadata": {
      "needs_background": "light"
     },
     "output_type": "display_data"
    }
   ],
   "source": [
    "import matplotlib.pyplot as plt \n",
    "    \n",
    "# x axis values \n",
    "x = [ 399, 451,375] \n",
    "# corresponding y axis values \n",
    "y = [2019,2020,2021] \n",
    "    \n",
    "# plotting the points  \n",
    "plt.plot(x, y) \n",
    "    \n",
    "# naming the x axis \n",
    "plt.xlabel('price in Millions') \n",
    "# naming the y axis \n",
    "plt.ylabel('years') \n",
    "    \n",
    "# giving a title to my graph \n",
    "plt.title('Maximum Sales Price') \n",
    "    \n",
    "# function to show the plot \n",
    "plt.show() "
   ]
  },
  {
   "cell_type": "code",
   "execution_count": 42,
   "metadata": {},
   "outputs": [
    {
     "data": {
      "text/plain": [
       "<BarContainer object of 4 artists>"
      ]
     },
     "execution_count": 42,
     "metadata": {},
     "output_type": "execute_result"
    },
    {
     "data": {
      "image/png": "[encoded data removed]",
      "text/plain": [
       "<Figure size 432x288 with 1 Axes>"
      ]
     },
     "metadata": {
      "needs_background": "light"
     },
     "output_type": "display_data"
    }
   ],
   "source": [
    "data = [[30, 25, 50, 20],\n",
    "[40, 23, 51, 17],\n",
    "[35, 22, 45, 19]]\n",
    "X = np.arange(4)\n",
    "fig = plt.figure()\n",
    "ax = fig.add_axes([0,0,1,1])\n",
    "ax.bar(X + 0.00, data[0], color = 'b', width = 0.25)\n",
    "ax.bar(X + 0.25, data[1], color = 'g', width = 0.25)\n",
    "ax.bar(X + 0.50, data[2], color = 'r', width = 0.25)"
   ]
  },
  {
   "cell_type": "code",
   "execution_count": 48,
   "metadata": {
    "scrolled": true
   },
   "outputs": [
    {
     "name": "stdout",
     "output_type": "stream",
     "text": [
      "  Average Housing Cost By County          Unnamed: 1     Unnamed: 2  \\\n",
      "0                           Year  Los Angeles County  Orange County   \n",
      "1                          2022*           $800,960     $1,195,000    \n",
      "2                           2021           $826,500     $1,182,500    \n",
      "3                           2020           $660,000       $950,000    \n",
      "4                           2019           $641,340       $840,000    \n",
      "5                           2018           $588,140       $785,000    \n",
      "6                            NaN         $3,516,940     $4,952,500    \n",
      "\n",
      "       Unnamed: 3             Unnamed: 4        Unnamed: 5        Unnamed: 6  \\\n",
      "0  Ventura County  San Bernardino County  Riverside County  San Diego County   \n",
      "1       $850,000               $450,000          $590,000          $875,000    \n",
      "2       $850,000               $460,000          $586,000          $836,700    \n",
      "3       $740,000               $378,500          $488,250          $730,000    \n",
      "4       $657,000               $320,000          $420,000          $655,000    \n",
      "5       $640,000               $295,000          $398,000          $618,500    \n",
      "6     $3,737,000             $1,903,500        $2,482,250        $3,715,200    \n",
      "\n",
      "             Unnamed: 7  \n",
      "0  Santa Barbara County  \n",
      "1             $912,500   \n",
      "2             $937,500   \n",
      "3             $970,000   \n",
      "4             $770,000   \n",
      "5             $840,000   \n",
      "6           $4,430,000   \n"
     ]
    }
   ],
   "source": [
    "#Housing Data Los Angeles\n",
    "data = pd.read_csv(\"C:\\\\Users\\\\Angiescomputer\\\\Desktop\\\\Sat-class\\\\LA Counties19-22.csv\")\n",
    "Totalsales_dataframe = pd.read_csv(\"C:\\\\Users\\\\Angiescomputer\\\\Desktop\\\\Sat-class\\\\LA Counties19-22.csv\")\n",
    "#Totalsales_dataframe.describe()\n",
    "print(Totalsales_dataframe)"
   ]
  },
  {
   "cell_type": "code",
   "execution_count": 50,
   "metadata": {},
   "outputs": [
    {
     "name": "stdout",
     "output_type": "stream",
     "text": [
      "   All Housing Pricing For Austin\n",
      "0                      Row Labels\n",
      "1                            2019\n",
      "2                          204.38\n",
      "3                            Qtr1\n",
      "4                            2020\n",
      "5                          210.53\n",
      "6                            Qtr1\n",
      "7                            2021\n",
      "8                           229.4\n",
      "9                            Qtr1\n",
      "10                    Grand Total\n"
     ]
    }
   ],
   "source": [
    "#Housing Data Austin \n",
    "data = pd.read_csv(\"C:\\\\Users\\\\Angiescomputer\\\\Desktop\\\\Sat-class\\\\Sum_Housing_Austin.csv\")\n",
    "Totalsales_dataframe = pd.read_csv(\"C:\\\\Users\\\\Angiescomputer\\\\Desktop\\\\Sat-class\\\\Sum_Housing_Austin.csv\")\n",
    "#Totalsales_dataframe.describe()C:\\Users\\Angiescomputer\\Desktop\\Sat-class\\Sum_Housing_Austin.csv\n",
    "print(Totalsales_dataframe)"
   ]
  },
  {
   "cell_type": "code",
   "execution_count": 51,
   "metadata": {},
   "outputs": [
    {
     "name": "stdout",
     "output_type": "stream",
     "text": [
      "                                        Date  Average   Median     Total\n",
      "0                                        NaN    Price    Price  Listings\n",
      "1                                     Jan-19  369,546  294,000     6,387\n",
      "2                                     Feb-19  359,875  290,000     6,359\n",
      "3                                     Mar-19  383,632  300,000     6,621\n",
      "4                                     Apr-19  389,547  315,000     6,776\n",
      "5                                     May-19  411,310  325,000     7,420\n",
      "6                                     Jun-19  407,286  325,000     7,757\n",
      "7                                     Jul-19  399,042  318,925     7,783\n",
      "8                                     Aug-19  392,276  319,318     7,663\n",
      "9                                     Sep-19  396,235  316,310     7,372\n",
      "10                                    Oct-19  391,710  322,000     7,014\n",
      "11                                    Nov-19  384,624  305,000     6,325\n",
      "12                                    Dec-19  405,375  319,500     5,346\n",
      "13                                    Jan-20  371,435  305,000     5,223\n",
      "14                                    Feb-20  401,077  322,946     5,042\n",
      "15                                    Mar-20  414,395  330,000     5,510\n",
      "16                                    Apr-20  402,526  324,900     6,201\n",
      "17                                    May-20  405,991  327,500     5,945\n",
      "18                                    Jun-20  418,671  337,722     5,160\n",
      "19                                    Jul-20  444,265  350,000     5,198\n",
      "20                                    Aug-20  461,845  349,500     4,168\n",
      "21                                    Sep-20  452,552  351,000     3,692\n",
      "22                                    Oct-20  467,255  365,000     3,485\n",
      "23                                    Nov-20  462,052  362,500     2,820\n",
      "24                                    Dec-20  484,932  365,042     1,943\n",
      "25                                    Jan-21  458,547  365,000     1,361\n",
      "26                                    Feb-21  503,715  391,000     1,292\n",
      "27                                    Mar-21  550,556  425,000     1,185\n",
      "28                                    Apr-21  572,134  460,000     1,812\n",
      "29                                    May-21  584,840  460,000     1,698\n",
      "30                                    Jun-21  591,810  475,500     2,230\n",
      "31                                    Jul-21  591,804  476,750     3,250\n",
      "32                                    Aug-21  569,322  470,000     3,345\n",
      "33                                    Sep-21  554,901  445,000     3,685\n",
      "34                                    Oct-21  562,538  452,000     3,438\n",
      "35                                    Nov-21  580,283  465,000     2,730\n",
      "36                                    Dec-21  594,808  471,600     2,023\n",
      "37                                    Jan-22  572,754  476,000     1,327\n",
      "38                                    Feb-22  600,941  495,000     1,225\n",
      "39                                    Mar-22  641,131  517,495     1,718\n",
      "40                                    Trends      NaN      NaN       NaN\n",
      "41                   Housing Activity Trends      NaN      NaN       NaN\n",
      "42                          Housing Activity      NaN      NaN       NaN\n",
      "43                                     State      NaN      NaN       NaN\n",
      "44                                       NaN      NaN      NaN       NaN\n",
      "45                                       MSA      NaN      NaN       NaN\n",
      "46                                       NaN      NaN      NaN       NaN\n",
      "47                                    County      NaN      NaN       NaN\n",
      "48                                       NaN      NaN      NaN       NaN\n",
      "49                   Local Market Area (LMA)      NaN      NaN       NaN\n",
      "50                                       NaN      NaN      NaN       NaN\n",
      "51                                  See Also      NaN      NaN       NaN\n",
      "52  Texas Housing Affordability Index (THAI)      NaN      NaN       NaN\n",
      "53                          Home Price Index      NaN      NaN       NaN\n",
      "54                           Housing Reports      NaN      NaN       NaN\n"
     ]
    }
   ],
   "source": [
    "#Housing Data Austin\n",
    "data = pd.read_csv(\"C:\\\\Users\\\\Angiescomputer\\\\Desktop\\\\Sat-class\\\\Austinhousing2.csv\")\n",
    "Totalsales_dataframe = pd.read_csv(\"C:\\\\Users\\\\Angiescomputer\\\\Desktop\\\\Sat-class\\\\Austinhousing2.csv\")\n",
    "#Totalsales_dataframe.describe()C:\\Users\\Angiescomputer\\Desktop\\Sat-class\\Sum_Housing_Austin.csv\n",
    "print(Totalsales_dataframe)"
   ]
  },
  {
   "cell_type": "code",
   "execution_count": 52,
   "metadata": {},
   "outputs": [
    {
     "name": "stdout",
     "output_type": "stream",
     "text": [
      "      Date    Average     Median     Total\n",
      "0     Date      Price      Price  Listings\n",
      "1   19-Jan    369,546    294,000     6,387\n",
      "2   19-Feb    359,875    290,000     6,359\n",
      "3   19-Mar    383,632    300,000     6,621\n",
      "4   19-Apr    389,547    315,000     6,776\n",
      "5   19-May    411,310    325,000     7,420\n",
      "6   19-Jun    407,286    325,000     7,757\n",
      "7   19-Jul    399,042    318,925     7,783\n",
      "8   19-Aug    392,276    319,318     7,663\n",
      "9   19-Sep    396,235    316,310     7,372\n",
      "10  19-Oct    391,710    322,000     7,014\n",
      "11  19-Nov    384,624    305,000     6,325\n",
      "12  19-Dec    405,375    319,500     5,346\n",
      "13     NaN  4,690,458  3,750,053    82,823\n",
      "14    Date    Average     Median     Total\n",
      "15    Date      Price      Price  Listings\n",
      "16  20-Jan    371,435    305,000     5,223\n",
      "17  20-Feb    401,077    322,946     5,042\n",
      "18  20-Mar    414,395    330,000     5,510\n",
      "19  20-Apr    402,526    324,900     6,201\n",
      "20  20-May    405,991    327,500     5,945\n",
      "21  20-Jun    418,671    337,722     5,160\n",
      "22  20-Jul    444,265    350,000     5,198\n",
      "23  20-Aug    461,845    349,500     4,168\n",
      "24  20-Sep    452,552    351,000     3,692\n",
      "25  20-Oct    467,255    365,000     3,485\n",
      "26  20-Nov    462,052    362,500     2,820\n",
      "27  20-Dec    484,932    365,042     1,943\n",
      "28     NaN  5,186,996  4,091,110    54,387\n",
      "29    Date    Average     Median     Total\n",
      "30    Date      Price      Price  Listings\n",
      "31  21-Jan    458,547    365,000     1,361\n",
      "32  21-Feb    503,715    391,000     1,292\n",
      "33  21-Mar    550,556    425,000     1,185\n",
      "34  21-Apr    572,134    460,000     1,812\n",
      "35  21-May    584,840    460,000     1,698\n",
      "36  21-Jun    591,810    475,500     2,230\n",
      "37  21-Jul    591,804    476,750     3,250\n",
      "38  21-Aug    569,322    470,000     3,345\n",
      "39  21-Sep    554,901    445,000     3,685\n",
      "40  21-Oct    562,538    452,000     3,438\n",
      "41  21-Nov    580,283    465,000     2,730\n",
      "42  21-Dec    594,808    471,600     2,023\n",
      "43     NaN  6,715,258  5,356,850    28,049\n",
      "44    Date    Average     Median     Total\n",
      "45    Date      Price      Price  Listings\n",
      "46  22-Jan    572,754    476,000     1,327\n",
      "47  22-Feb    600,941    495,000     1,225\n",
      "48  22-Mar    641,131    517,495     1,718\n",
      "49     NaN  1,814,826  1,488,495     4,270\n"
     ]
    }
   ],
   "source": [
    "#Housing Data Austin\n",
    "data = pd.read_csv(\"C:\\\\Users\\\\Angiescomputer\\\\Desktop\\\\Sat-class\\\\AustinAMT.csv\")\n",
    "Totalsales_dataframe = pd.read_csv(\"C:\\\\Users\\\\Angiescomputer\\\\Desktop\\\\Sat-class\\\\AustinAMT.csv\")\n",
    "#Totalsales_dataframe.describe()C:\\Users\\Angiescomputer\\Desktop\\Sat-class\\Sum_Housing_Austin.csv\n",
    "print(Totalsales_dataframe)"
   ]
  },
  {
   "cell_type": "code",
   "execution_count": null,
   "metadata": {},
   "outputs": [],
   "source": []
  }
 ],
 "metadata": {
  "kernelspec": {
   "display_name": "Python 3 (ipykernel)",
   "language": "python",
   "name": "python3"
  },
  "language_info": {
   "codemirror_mode": {
    "name": "ipython",
    "version": 3
   },
   "file_extension": ".py",
   "mimetype": "text/x-python",
   "name": "python",
   "nbconvert_exporter": "python",
   "pygments_lexer": "ipython3",
   "version": "3.9.7"
  }
 },
 "nbformat": 4,
 "nbformat_minor": 2
}
