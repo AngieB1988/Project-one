{
 "cells": [
  {
   "cell_type": "code",
   "execution_count": 1,
   "metadata": {},
   "outputs": [],
   "source": [
    "import matplotlib.pyplot as plt\n",
    "from matplotlib.pyplot import figure\n",
    "import pandas as pd\n",
    "import numpy as np\n",
    "import requests\n",
    "import time\n",
    "import json\n",
    "from scipy.stats import linregress\n",
    "from pprint import pprint\n",
    "import csv\n",
    "\n",
    "# Imported API Key\n",
    "from keys import covid"
   ]
  },
  {
   "cell_type": "code",
   "execution_count": 2,
   "metadata": {},
   "outputs": [],
   "source": [
    "# List of county fips & query url to retrieve data for both\n",
    "#counties = ['Los Angeles County','Travis County','New York County']\n",
    "counties = ['06037','48015','36061']\n",
    "\n",
    "query_county = 'https://api.covidactnow.org/v2/county/{counties}.timeseries.json?apiKey={covid}'"
   ]
  },
  {
   "cell_type": "code",
   "execution_count": 3,
   "metadata": {},
   "outputs": [],
   "source": [
    "# Los Angeles County\n",
    "headers = {\n",
    "        'Accept': 'application/json',\n",
    "        'content-Type': 'application/json'\n",
    "}\n",
    "response = requests.get(f\"https://api.covidactnow.org/v2/county/{counties[0]}.timeseries.json?apiKey={covid}\", headers=headers, data={})\n",
    "myjson = response.json()\n",
    "\n",
    "#print(json.dumps(myjson, indent=4, sort_keys=True))"
   ]
  },
  {
   "cell_type": "code",
   "execution_count": 4,
   "metadata": {},
   "outputs": [],
   "source": [
    "# Extracting specified data from json file for Los Angeles County\n",
    "\n",
    "la_cases_per_date = []\n",
    "la_dates = []\n",
    "la_deaths = []\n",
    "\n",
    "la = myjson['actualsTimeseries']\n",
    "\n",
    "for i in range(len(la)):\n",
    "       la_cases_per_date.append(la[i]['cases'])\n",
    "       la_dates.append(la[i]['date'])\n",
    "       la_deaths.append(la[i]['deaths'])"
   ]
  },
  {
   "cell_type": "code",
   "execution_count": 5,
   "metadata": {},
   "outputs": [
    {
     "data": {
      "text/html": [
       "<div>\n",
       "<style scoped>\n",
       "    .dataframe tbody tr th:only-of-type {\n",
       "        vertical-align: middle;\n",
       "    }\n",
       "\n",
       "    .dataframe tbody tr th {\n",
       "        vertical-align: top;\n",
       "    }\n",
       "\n",
       "    .dataframe thead th {\n",
       "        text-align: right;\n",
       "    }\n",
       "</style>\n",
       "<table border=\"1\" class=\"dataframe\">\n",
       "  <thead>\n",
       "    <tr style=\"text-align: right;\">\n",
       "      <th></th>\n",
       "      <th>Date</th>\n",
       "      <th>Total Cases to Date</th>\n",
       "      <th>Deaths</th>\n",
       "    </tr>\n",
       "  </thead>\n",
       "  <tbody>\n",
       "    <tr>\n",
       "      <th>0</th>\n",
       "      <td>2020-01-05</td>\n",
       "      <td>NaN</td>\n",
       "      <td>NaN</td>\n",
       "    </tr>\n",
       "    <tr>\n",
       "      <th>1</th>\n",
       "      <td>2020-01-26</td>\n",
       "      <td>1.0</td>\n",
       "      <td>0.0</td>\n",
       "    </tr>\n",
       "    <tr>\n",
       "      <th>2</th>\n",
       "      <td>2020-01-27</td>\n",
       "      <td>1.0</td>\n",
       "      <td>0.0</td>\n",
       "    </tr>\n",
       "    <tr>\n",
       "      <th>3</th>\n",
       "      <td>2020-01-28</td>\n",
       "      <td>1.0</td>\n",
       "      <td>0.0</td>\n",
       "    </tr>\n",
       "    <tr>\n",
       "      <th>4</th>\n",
       "      <td>2020-01-29</td>\n",
       "      <td>1.0</td>\n",
       "      <td>0.0</td>\n",
       "    </tr>\n",
       "  </tbody>\n",
       "</table>\n",
       "</div>"
      ],
      "text/plain": [
       "        Date  Total Cases to Date  Deaths\n",
       "0 2020-01-05                  NaN     NaN\n",
       "1 2020-01-26                  1.0     0.0\n",
       "2 2020-01-27                  1.0     0.0\n",
       "3 2020-01-28                  1.0     0.0\n",
       "4 2020-01-29                  1.0     0.0"
      ]
     },
     "execution_count": 5,
     "metadata": {},
     "output_type": "execute_result"
    }
   ],
   "source": [
    "# Coverted to datetime to be able manipulate data as needed for Los Angeles County\n",
    "la_df = pd.DataFrame({'Date':la_dates,\n",
    "                        'Total Cases to Date':la_cases_per_date,\n",
    "                            'Deaths':la_deaths})\n",
    "\n",
    "la_df['Date'] = pd.to_datetime(la_df['Date'])\n",
    "la_df.head()"
   ]
  },
  {
   "cell_type": "code",
   "execution_count": 6,
   "metadata": {},
   "outputs": [
    {
     "data": {
      "text/html": [
       "<div>\n",
       "<style scoped>\n",
       "    .dataframe tbody tr th:only-of-type {\n",
       "        vertical-align: middle;\n",
       "    }\n",
       "\n",
       "    .dataframe tbody tr th {\n",
       "        vertical-align: top;\n",
       "    }\n",
       "\n",
       "    .dataframe thead th {\n",
       "        text-align: right;\n",
       "    }\n",
       "</style>\n",
       "<table border=\"1\" class=\"dataframe\">\n",
       "  <thead>\n",
       "    <tr style=\"text-align: right;\">\n",
       "      <th></th>\n",
       "      <th>Date</th>\n",
       "      <th>Total Cases to Date</th>\n",
       "      <th>Deaths</th>\n",
       "    </tr>\n",
       "  </thead>\n",
       "  <tbody>\n",
       "    <tr>\n",
       "      <th>0</th>\n",
       "      <td>2020-01</td>\n",
       "      <td>1.0</td>\n",
       "      <td>0.0</td>\n",
       "    </tr>\n",
       "    <tr>\n",
       "      <th>1</th>\n",
       "      <td>2020-02</td>\n",
       "      <td>1.0</td>\n",
       "      <td>0.0</td>\n",
       "    </tr>\n",
       "    <tr>\n",
       "      <th>2</th>\n",
       "      <td>2020-03</td>\n",
       "      <td>3011.0</td>\n",
       "      <td>54.0</td>\n",
       "    </tr>\n",
       "    <tr>\n",
       "      <th>3</th>\n",
       "      <td>2020-04</td>\n",
       "      <td>23182.0</td>\n",
       "      <td>1111.0</td>\n",
       "    </tr>\n",
       "    <tr>\n",
       "      <th>4</th>\n",
       "      <td>2020-05</td>\n",
       "      <td>54996.0</td>\n",
       "      <td>2362.0</td>\n",
       "    </tr>\n",
       "  </tbody>\n",
       "</table>\n",
       "</div>"
      ],
      "text/plain": [
       "      Date  Total Cases to Date  Deaths\n",
       "0  2020-01                  1.0     0.0\n",
       "1  2020-02                  1.0     0.0\n",
       "2  2020-03               3011.0    54.0\n",
       "3  2020-04              23182.0  1111.0\n",
       "4  2020-05              54996.0  2362.0"
      ]
     },
     "execution_count": 6,
     "metadata": {},
     "output_type": "execute_result"
    }
   ],
   "source": [
    "# Grouped data by the month with the max number of cases and deaths per for Los Angeles County/Final DataFrame\n",
    "los_angeles_df = pd.DataFrame(la_df.groupby(pd.Grouper(key='Date', freq='M')).max())\n",
    "\n",
    "los_angeles_df2 = los_angeles_df.reset_index()\n",
    "\n",
    "los_angeles_df2['Date'] = los_angeles_df2['Date'].dt.strftime('%Y-%m')\n",
    "\n",
    "los_angeles_df2.head()"
   ]
  },
  {
   "cell_type": "code",
   "execution_count": 7,
   "metadata": {},
   "outputs": [],
   "source": [
    "# Parameter for charts\n",
    "plt.rcParams[\"figure.figsize\"] = (15,5.5)"
   ]
  },
  {
   "cell_type": "code",
   "execution_count": 8,
   "metadata": {},
   "outputs": [
    {
     "data": {
      "image/png": "[encoded data removed]",
      "text/plain": [
       "<Figure size 1080x396 with 1 Axes>"
      ]
     },
     "metadata": {
      "needs_background": "light"
     },
     "output_type": "display_data"
    }
   ],
   "source": [
    "# Los Angeles County Cases Chart\n",
    "la_months = los_angeles_df2['Date']\n",
    "la_cases = los_angeles_df2['Total Cases to Date']\n",
    "\n",
    "ax = plt.subplot(111)\n",
    "l = ax.fill_between(la_months, la_cases)\n",
    "\n",
    "# Labels\n",
    "xlab = ax.xaxis.get_label()\n",
    "ylab = ax.yaxis.get_label()\n",
    "\n",
    "plt.plot(la_months, la_cases)\n",
    "plt.title('Los Angeles County Covid Cases')\n",
    "plt.xlabel('Year/Month')\n",
    "plt.ylabel('Amount Per (Million)')\n",
    "plt.xticks(rotation = 90)\n",
    "\n",
    "ax.spines['right'].set_color((.8,.8,.8))\n",
    "ax.spines['top'].set_color((.8,.8,.8))\n",
    "\n",
    "xlab.set_style('italic')\n",
    "xlab.set_size(13)\n",
    "ylab.set_style('italic')\n",
    "ylab.set_size(13)\n",
    "\n",
    "# Title\n",
    "ttl = ax.title\n",
    "ttl.set_size(20)\n",
    "ttl.set_weight('bold')\n",
    "\n",
    "ax.grid('on')\n",
    "plt.show()\n"
   ]
  },
  {
   "cell_type": "code",
   "execution_count": 9,
   "metadata": {},
   "outputs": [
    {
     "data": {
      "image/png": "[encoded data removed]",
      "text/plain": [
       "<Figure size 1080x396 with 1 Axes>"
      ]
     },
     "metadata": {
      "needs_background": "light"
     },
     "output_type": "display_data"
    }
   ],
   "source": [
    "# Los Angeles County Deaths Chart\n",
    "la_per_deaths = los_angeles_df2['Deaths']\n",
    "\n",
    "ax = plt.subplot(111)\n",
    "l = ax.fill_between(la_months, la_per_deaths)\n",
    "\n",
    "# Labels\n",
    "xlab = ax.xaxis.get_label()\n",
    "ylab = ax.yaxis.get_label()\n",
    "\n",
    "plt.plot(la_months, la_per_deaths)\n",
    "plt.title('Los Angeles County Covid Deaths')\n",
    "plt.xlabel('Year/Month')\n",
    "plt.ylabel('Amount Per')\n",
    "plt.xticks(rotation = 90)\n",
    "\n",
    "ax.spines['right'].set_color((.8,.8,.8))\n",
    "ax.spines['top'].set_color((.8,.8,.8))\n",
    "\n",
    "xlab.set_style('italic')\n",
    "xlab.set_size(13)\n",
    "ylab.set_style('italic')\n",
    "ylab.set_size(13)\n",
    "\n",
    "# Title\n",
    "ttl = ax.title\n",
    "ttl.set_size(20)\n",
    "ttl.set_weight('bold')\n",
    "\n",
    "ax.grid('on')\n",
    "plt.show()"
   ]
  },
  {
   "cell_type": "code",
   "execution_count": null,
   "metadata": {},
   "outputs": [],
   "source": []
  },
  {
   "cell_type": "code",
   "execution_count": 10,
   "metadata": {},
   "outputs": [],
   "source": [
    "# Austin/Travis County\n",
    "headers = {\n",
    "        'Accept': 'application/json',\n",
    "        'content-Type': 'application/json'\n",
    "}\n",
    "response = requests.get(f\"https://api.covidactnow.org/v2/county/{counties[1]}.timeseries.json?apiKey={covid}\", headers=headers, data={})\n",
    "myjson = response.json()"
   ]
  },
  {
   "cell_type": "code",
   "execution_count": 11,
   "metadata": {},
   "outputs": [],
   "source": [
    "# Extracting specified data from json file for Travis County\n",
    "\n",
    "au_cases_per_date = []\n",
    "au_dates = []\n",
    "au_deaths = []\n",
    "\n",
    "au = myjson['actualsTimeseries']\n",
    "\n",
    "for i in range(len(au)):\n",
    "       au_cases_per_date.append(au[i]['cases'])\n",
    "       au_dates.append(au[i]['date'])\n",
    "       au_deaths.append(au[i]['deaths'])"
   ]
  },
  {
   "cell_type": "code",
   "execution_count": 12,
   "metadata": {},
   "outputs": [
    {
     "data": {
      "text/html": [
       "<div>\n",
       "<style scoped>\n",
       "    .dataframe tbody tr th:only-of-type {\n",
       "        vertical-align: middle;\n",
       "    }\n",
       "\n",
       "    .dataframe tbody tr th {\n",
       "        vertical-align: top;\n",
       "    }\n",
       "\n",
       "    .dataframe thead th {\n",
       "        text-align: right;\n",
       "    }\n",
       "</style>\n",
       "<table border=\"1\" class=\"dataframe\">\n",
       "  <thead>\n",
       "    <tr style=\"text-align: right;\">\n",
       "      <th></th>\n",
       "      <th>Date</th>\n",
       "      <th>Total Cases to Date</th>\n",
       "      <th>Deaths</th>\n",
       "    </tr>\n",
       "  </thead>\n",
       "  <tbody>\n",
       "    <tr>\n",
       "      <th>0</th>\n",
       "      <td>2020-03-17</td>\n",
       "      <td>NaN</td>\n",
       "      <td>NaN</td>\n",
       "    </tr>\n",
       "    <tr>\n",
       "      <th>1</th>\n",
       "      <td>2020-03-18</td>\n",
       "      <td>NaN</td>\n",
       "      <td>NaN</td>\n",
       "    </tr>\n",
       "    <tr>\n",
       "      <th>2</th>\n",
       "      <td>2020-03-19</td>\n",
       "      <td>NaN</td>\n",
       "      <td>NaN</td>\n",
       "    </tr>\n",
       "    <tr>\n",
       "      <th>3</th>\n",
       "      <td>2020-03-20</td>\n",
       "      <td>NaN</td>\n",
       "      <td>NaN</td>\n",
       "    </tr>\n",
       "    <tr>\n",
       "      <th>4</th>\n",
       "      <td>2020-03-21</td>\n",
       "      <td>NaN</td>\n",
       "      <td>NaN</td>\n",
       "    </tr>\n",
       "  </tbody>\n",
       "</table>\n",
       "</div>"
      ],
      "text/plain": [
       "        Date  Total Cases to Date  Deaths\n",
       "0 2020-03-17                  NaN     NaN\n",
       "1 2020-03-18                  NaN     NaN\n",
       "2 2020-03-19                  NaN     NaN\n",
       "3 2020-03-20                  NaN     NaN\n",
       "4 2020-03-21                  NaN     NaN"
      ]
     },
     "execution_count": 12,
     "metadata": {},
     "output_type": "execute_result"
    }
   ],
   "source": [
    "# Coverted to datetime to be able manipulate data as needed for Travis County\n",
    "au_df = pd.DataFrame({'Date':au_dates,\n",
    "                        'Total Cases to Date':au_cases_per_date,\n",
    "                            'Deaths':au_deaths})\n",
    "\n",
    "au_df['Date'] = pd.to_datetime(au_df['Date'])\n",
    "au_df.head()"
   ]
  },
  {
   "cell_type": "code",
   "execution_count": 13,
   "metadata": {},
   "outputs": [
    {
     "data": {
      "text/html": [
       "<div>\n",
       "<style scoped>\n",
       "    .dataframe tbody tr th:only-of-type {\n",
       "        vertical-align: middle;\n",
       "    }\n",
       "\n",
       "    .dataframe tbody tr th {\n",
       "        vertical-align: top;\n",
       "    }\n",
       "\n",
       "    .dataframe thead th {\n",
       "        text-align: right;\n",
       "    }\n",
       "</style>\n",
       "<table border=\"1\" class=\"dataframe\">\n",
       "  <thead>\n",
       "    <tr style=\"text-align: right;\">\n",
       "      <th></th>\n",
       "      <th>Date</th>\n",
       "      <th>Total Cases to Date</th>\n",
       "      <th>Deaths</th>\n",
       "    </tr>\n",
       "  </thead>\n",
       "  <tbody>\n",
       "    <tr>\n",
       "      <th>0</th>\n",
       "      <td>2020-03</td>\n",
       "      <td>2.0</td>\n",
       "      <td>0.0</td>\n",
       "    </tr>\n",
       "    <tr>\n",
       "      <th>1</th>\n",
       "      <td>2020-04</td>\n",
       "      <td>13.0</td>\n",
       "      <td>0.0</td>\n",
       "    </tr>\n",
       "    <tr>\n",
       "      <th>2</th>\n",
       "      <td>2020-05</td>\n",
       "      <td>26.0</td>\n",
       "      <td>0.0</td>\n",
       "    </tr>\n",
       "    <tr>\n",
       "      <th>3</th>\n",
       "      <td>2020-06</td>\n",
       "      <td>71.0</td>\n",
       "      <td>0.0</td>\n",
       "    </tr>\n",
       "    <tr>\n",
       "      <th>4</th>\n",
       "      <td>2020-07</td>\n",
       "      <td>212.0</td>\n",
       "      <td>5.0</td>\n",
       "    </tr>\n",
       "  </tbody>\n",
       "</table>\n",
       "</div>"
      ],
      "text/plain": [
       "      Date  Total Cases to Date  Deaths\n",
       "0  2020-03                  2.0     0.0\n",
       "1  2020-04                 13.0     0.0\n",
       "2  2020-05                 26.0     0.0\n",
       "3  2020-06                 71.0     0.0\n",
       "4  2020-07                212.0     5.0"
      ]
     },
     "execution_count": 13,
     "metadata": {},
     "output_type": "execute_result"
    }
   ],
   "source": [
    "# Grouped data by the month with the max number of cases and deaths per for Travis County/Final DataFrame\n",
    "austin_df = pd.DataFrame(au_df.groupby(pd.Grouper(key='Date', freq='M')).max())\n",
    "\n",
    "austin_df2 = austin_df.reset_index()\n",
    "\n",
    "austin_df2['Date'] = austin_df2['Date'].dt.strftime('%Y-%m')\n",
    "\n",
    "austin_df2.head()"
   ]
  },
  {
   "cell_type": "code",
   "execution_count": 22,
   "metadata": {},
   "outputs": [
    {
     "data": {
      "image/png": "[encoded data removed]",
      "text/plain": [
       "<Figure size 1080x396 with 1 Axes>"
      ]
     },
     "metadata": {
      "needs_background": "light"
     },
     "output_type": "display_data"
    }
   ],
   "source": [
    "# Travis County Cases Chart\n",
    "au_months = austin_df2['Date']\n",
    "au_cases = austin_df2['Total Cases to Date']\n",
    "\n",
    "ax = plt.subplot(111)\n",
    "l = ax.fill_between(au_months, au_cases)\n",
    "\n",
    "# Labels\n",
    "xlab = ax.xaxis.get_label()\n",
    "ylab = ax.yaxis.get_label()\n",
    "\n",
    "plt.plot(au_months, au_cases)\n",
    "plt.title('Travis County Covid Cases')\n",
    "plt.xlabel('Year/Month')\n",
    "plt.ylabel('Amount Per')\n",
    "plt.xticks(rotation = 90)\n",
    "\n",
    "ax.spines['right'].set_color((.8,.8,.8))\n",
    "ax.spines['top'].set_color((.8,.8,.8))\n",
    "\n",
    "xlab.set_style('italic')\n",
    "xlab.set_size(13)\n",
    "ylab.set_style('italic')\n",
    "ylab.set_size(13)\n",
    "\n",
    "# Title\n",
    "ttl = ax.title\n",
    "ttl.set_size(20)\n",
    "ttl.set_weight('bold')\n",
    "\n",
    "ax.grid('on')\n",
    "plt.show()\n"
   ]
  },
  {
   "cell_type": "code",
   "execution_count": 15,
   "metadata": {},
   "outputs": [
    {
     "data": {
      "image/png": "[encoded data removed]",
      "text/plain": [
       "<Figure size 1080x396 with 1 Axes>"
      ]
     },
     "metadata": {
      "needs_background": "light"
     },
     "output_type": "display_data"
    }
   ],
   "source": [
    "# Travis County Deaths Chart\n",
    "au_per_deaths = austin_df2['Deaths']\n",
    "\n",
    "ax = plt.subplot(111)\n",
    "l = ax.fill_between(au_months, au_per_deaths)\n",
    "\n",
    "# Labels\n",
    "xlab = ax.xaxis.get_label()\n",
    "ylab = ax.yaxis.get_label()\n",
    "\n",
    "plt.plot(au_months, au_per_deaths)\n",
    "plt.title('Travis County Covid Deaths')\n",
    "plt.xlabel('Year/Month')\n",
    "plt.ylabel('Amount Per')\n",
    "plt.xticks(rotation = 90)\n",
    "\n",
    "ax.spines['right'].set_color((.8,.8,.8))\n",
    "ax.spines['top'].set_color((.8,.8,.8))\n",
    "\n",
    "xlab.set_style('italic')\n",
    "xlab.set_size(13)\n",
    "ylab.set_style('italic')\n",
    "ylab.set_size(13)\n",
    "\n",
    "# Title\n",
    "ttl = ax.title\n",
    "ttl.set_size(20)\n",
    "ttl.set_weight('bold')\n",
    "\n",
    "ax.grid('on')\n",
    "plt.show()"
   ]
  },
  {
   "cell_type": "code",
   "execution_count": null,
   "metadata": {},
   "outputs": [],
   "source": []
  },
  {
   "cell_type": "code",
   "execution_count": 16,
   "metadata": {},
   "outputs": [],
   "source": [
    "# New York County\n",
    "headers = {\n",
    "        'Accept': 'application/json',\n",
    "        'content-Type': 'application/json'\n",
    "}\n",
    "response = requests.get(f\"https://api.covidactnow.org/v2/county/{counties[2]}.timeseries.json?apiKey={covid}\", headers=headers, data={})\n",
    "myjson = response.json()"
   ]
  },
  {
   "cell_type": "code",
   "execution_count": 17,
   "metadata": {},
   "outputs": [],
   "source": [
    "# Extracting specified data from json file for New York County\n",
    "\n",
    "ny_cases_per_date = []\n",
    "ny_dates = []\n",
    "ny_deaths = []\n",
    "\n",
    "ny = myjson['actualsTimeseries']\n",
    "\n",
    "for i in range(len(ny)):\n",
    "       ny_cases_per_date.append(ny[i]['cases'])\n",
    "       ny_dates.append(ny[i]['date'])\n",
    "       ny_deaths.append(ny[i]['deaths'])"
   ]
  },
  {
   "cell_type": "code",
   "execution_count": 18,
   "metadata": {},
   "outputs": [
    {
     "data": {
      "text/html": [
       "<div>\n",
       "<style scoped>\n",
       "    .dataframe tbody tr th:only-of-type {\n",
       "        vertical-align: middle;\n",
       "    }\n",
       "\n",
       "    .dataframe tbody tr th {\n",
       "        vertical-align: top;\n",
       "    }\n",
       "\n",
       "    .dataframe thead th {\n",
       "        text-align: right;\n",
       "    }\n",
       "</style>\n",
       "<table border=\"1\" class=\"dataframe\">\n",
       "  <thead>\n",
       "    <tr style=\"text-align: right;\">\n",
       "      <th></th>\n",
       "      <th>Date</th>\n",
       "      <th>Total Cases to Date</th>\n",
       "      <th>Deaths</th>\n",
       "    </tr>\n",
       "  </thead>\n",
       "  <tbody>\n",
       "    <tr>\n",
       "      <th>0</th>\n",
       "      <td>2020-01-22</td>\n",
       "      <td>0.0</td>\n",
       "      <td>0.0</td>\n",
       "    </tr>\n",
       "    <tr>\n",
       "      <th>1</th>\n",
       "      <td>2020-01-23</td>\n",
       "      <td>0.0</td>\n",
       "      <td>0.0</td>\n",
       "    </tr>\n",
       "    <tr>\n",
       "      <th>2</th>\n",
       "      <td>2020-01-24</td>\n",
       "      <td>0.0</td>\n",
       "      <td>0.0</td>\n",
       "    </tr>\n",
       "    <tr>\n",
       "      <th>3</th>\n",
       "      <td>2020-01-25</td>\n",
       "      <td>0.0</td>\n",
       "      <td>0.0</td>\n",
       "    </tr>\n",
       "    <tr>\n",
       "      <th>4</th>\n",
       "      <td>2020-01-26</td>\n",
       "      <td>0.0</td>\n",
       "      <td>0.0</td>\n",
       "    </tr>\n",
       "  </tbody>\n",
       "</table>\n",
       "</div>"
      ],
      "text/plain": [
       "        Date  Total Cases to Date  Deaths\n",
       "0 2020-01-22                  0.0     0.0\n",
       "1 2020-01-23                  0.0     0.0\n",
       "2 2020-01-24                  0.0     0.0\n",
       "3 2020-01-25                  0.0     0.0\n",
       "4 2020-01-26                  0.0     0.0"
      ]
     },
     "execution_count": 18,
     "metadata": {},
     "output_type": "execute_result"
    }
   ],
   "source": [
    "# Coverted to datetime to be able manipulate data as needed for New York County\n",
    "ny_df = pd.DataFrame({'Date':ny_dates,\n",
    "                        'Total Cases to Date':ny_cases_per_date,\n",
    "                            'Deaths':ny_deaths})\n",
    "\n",
    "ny_df['Date'] = pd.to_datetime(ny_df['Date'])\n",
    "ny_df.head()"
   ]
  },
  {
   "cell_type": "code",
   "execution_count": 19,
   "metadata": {},
   "outputs": [
    {
     "data": {
      "text/html": [
       "<div>\n",
       "<style scoped>\n",
       "    .dataframe tbody tr th:only-of-type {\n",
       "        vertical-align: middle;\n",
       "    }\n",
       "\n",
       "    .dataframe tbody tr th {\n",
       "        vertical-align: top;\n",
       "    }\n",
       "\n",
       "    .dataframe thead th {\n",
       "        text-align: right;\n",
       "    }\n",
       "</style>\n",
       "<table border=\"1\" class=\"dataframe\">\n",
       "  <thead>\n",
       "    <tr style=\"text-align: right;\">\n",
       "      <th></th>\n",
       "      <th>Date</th>\n",
       "      <th>Total Cases to Date</th>\n",
       "      <th>Deaths</th>\n",
       "    </tr>\n",
       "  </thead>\n",
       "  <tbody>\n",
       "    <tr>\n",
       "      <th>0</th>\n",
       "      <td>2020-01</td>\n",
       "      <td>0.0</td>\n",
       "      <td>0.0</td>\n",
       "    </tr>\n",
       "    <tr>\n",
       "      <th>1</th>\n",
       "      <td>2020-02</td>\n",
       "      <td>0.0</td>\n",
       "      <td>0.0</td>\n",
       "    </tr>\n",
       "    <tr>\n",
       "      <th>2</th>\n",
       "      <td>2020-03</td>\n",
       "      <td>6539.0</td>\n",
       "      <td>129.0</td>\n",
       "    </tr>\n",
       "    <tr>\n",
       "      <th>3</th>\n",
       "      <td>2020-04</td>\n",
       "      <td>21920.0</td>\n",
       "      <td>2132.0</td>\n",
       "    </tr>\n",
       "    <tr>\n",
       "      <th>4</th>\n",
       "      <td>2020-05</td>\n",
       "      <td>26653.0</td>\n",
       "      <td>2912.0</td>\n",
       "    </tr>\n",
       "  </tbody>\n",
       "</table>\n",
       "</div>"
      ],
      "text/plain": [
       "      Date  Total Cases to Date  Deaths\n",
       "0  2020-01                  0.0     0.0\n",
       "1  2020-02                  0.0     0.0\n",
       "2  2020-03               6539.0   129.0\n",
       "3  2020-04              21920.0  2132.0\n",
       "4  2020-05              26653.0  2912.0"
      ]
     },
     "execution_count": 19,
     "metadata": {},
     "output_type": "execute_result"
    }
   ],
   "source": [
    "# Grouped data by the month with the max number of cases and deaths per for New York County/Final DataFrame\n",
    "new_york_df = pd.DataFrame(ny_df.groupby(pd.Grouper(key='Date', freq='M')).max())\n",
    "\n",
    "new_york_df2 = new_york_df.reset_index()\n",
    "\n",
    "new_york_df2['Date'] = new_york_df2['Date'].dt.strftime('%Y-%m')\n",
    "\n",
    "new_york_df2.head()"
   ]
  },
  {
   "cell_type": "code",
   "execution_count": 20,
   "metadata": {},
   "outputs": [
    {
     "data": {
      "image/png": "[encoded data removed]",
      "text/plain": [
       "<Figure size 1080x396 with 1 Axes>"
      ]
     },
     "metadata": {
      "needs_background": "light"
     },
     "output_type": "display_data"
    }
   ],
   "source": [
    "# New York County Cases Chart\n",
    "ny_months = new_york_df2['Date']\n",
    "ny_cases = new_york_df2['Total Cases to Date']\n",
    "\n",
    "ax = plt.subplot(111)\n",
    "l = ax.fill_between(ny_months, ny_cases)\n",
    "\n",
    "# Tweaking of Labels\n",
    "xlab = ax.xaxis.get_label()\n",
    "ylab = ax.yaxis.get_label()\n",
    "\n",
    "plt.plot(ny_months, ny_cases)\n",
    "plt.title('New York County Covid Cases')\n",
    "plt.xlabel('Year/Month')\n",
    "plt.ylabel('Amount Per')\n",
    "plt.xticks(rotation = 90)\n",
    "\n",
    "ax.spines['right'].set_color((.8,.8,.8))\n",
    "ax.spines['top'].set_color((.8,.8,.8))\n",
    "\n",
    "xlab.set_style('italic')\n",
    "xlab.set_size(13)\n",
    "ylab.set_style('italic')\n",
    "ylab.set_size(13)\n",
    "\n",
    "# tweak the title\n",
    "ttl = ax.title\n",
    "ttl.set_size(20)\n",
    "ttl.set_weight('bold')\n",
    "\n",
    "ax.grid('on')\n",
    "plt.show()\n"
   ]
  },
  {
   "cell_type": "code",
   "execution_count": 21,
   "metadata": {},
   "outputs": [
    {
     "data": {
      "image/png": "[encoded data removed]",
      "text/plain": [
       "<Figure size 1080x396 with 1 Axes>"
      ]
     },
     "metadata": {
      "needs_background": "light"
     },
     "output_type": "display_data"
    }
   ],
   "source": [
    "# New York County Deaths Chart\n",
    "ny_per_deaths = new_york_df2['Deaths']\n",
    "\n",
    "ax = plt.subplot(111)\n",
    "l = ax.fill_between(ny_months, ny_per_deaths)\n",
    "\n",
    "# Tweaking of Labels\n",
    "xlab = ax.xaxis.get_label()\n",
    "ylab = ax.yaxis.get_label()\n",
    "\n",
    "plt.plot(ny_months, ny_per_deaths)\n",
    "plt.title('New York County Covid Deaths')\n",
    "plt.xlabel('Year/Month')\n",
    "plt.ylabel('Amount Per')\n",
    "plt.xticks(rotation = 90)\n",
    "\n",
    "ax.spines['right'].set_color((.8,.8,.8))\n",
    "ax.spines['top'].set_color((.8,.8,.8))\n",
    "\n",
    "xlab.set_style('italic')\n",
    "xlab.set_size(13)\n",
    "ylab.set_style('italic')\n",
    "ylab.set_size(13)\n",
    "\n",
    "# tweak the title\n",
    "ttl = ax.title\n",
    "ttl.set_size(20)\n",
    "ttl.set_weight('bold')\n",
    "\n",
    "ax.grid('on')\n",
    "plt.show()"
   ]
  }
 ],
 "metadata": {
  "interpreter": {
   "hash": "6e18270aece4886438592095eb7c4077958764c12b3c7681de976e15e7101ea7"
  },
  "kernelspec": {
   "display_name": "Python 3.9.7 ('base')",
   "language": "python",
   "name": "python3"
  },
  "language_info": {
   "codemirror_mode": {
    "name": "ipython",
    "version": 3
   },
   "file_extension": ".py",
   "mimetype": "text/x-python",
   "name": "python",
   "nbconvert_exporter": "python",
   "pygments_lexer": "ipython3",
   "version": "3.9.7"
  },
  "orig_nbformat": 4
 },
 "nbformat": 4,
 "nbformat_minor": 2
}
