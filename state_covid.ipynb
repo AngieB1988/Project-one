{
 "cells": [
  {
   "cell_type": "code",
   "execution_count": 12,
   "metadata": {},
   "outputs": [],
   "source": [
    "import matplotlib.pyplot as plt\n",
    "import pandas as pd\n",
    "import numpy as np\n",
    "import requests\n",
    "import time\n",
    "import json\n",
    "from scipy.stats import linregress\n",
    "from pprint import pprint\n",
    "import csv\n",
    "\n",
    "# Imported API Key\n",
    "from keys import covid"
   ]
  },
  {
   "cell_type": "code",
   "execution_count": 13,
   "metadata": {},
   "outputs": [],
   "source": [
    "# List of states & query url to retrieve data for both\n",
    "\n",
    "states = ['CA','TX','NY']\n",
    "\n",
    "query = 'https://api.covidactnow.org/v2/state/{state}.timeseries.json?apiKey={covid}'"
   ]
  },
  {
   "cell_type": "code",
   "execution_count": 39,
   "metadata": {},
   "outputs": [],
   "source": [
    "# California\n",
    "headers = {\n",
    "        'Accept': 'application/json',\n",
    "        'content-Type': 'application/json'\n",
    "}\n",
    "response = requests.get(f\"https://api.covidactnow.org/v2/state/{states[0]}.timeseries.json?apiKey={covid}\", headers=headers, data={})\n",
    "myjson = response.json()\n",
    "\n",
    "#print(json.dumps(myjson, indent=4, sort_keys=True))"
   ]
  },
  {
   "cell_type": "code",
   "execution_count": 15,
   "metadata": {},
   "outputs": [],
   "source": [
    "# Extracting specified data from json file for California\n",
    "\n",
    "ca_cases_per_date = []\n",
    "ca_dates = []\n",
    "ca_deaths = []\n",
    "\n",
    "ca = myjson['actualsTimeseries']\n",
    "\n",
    "for i in range(len(ca)):\n",
    "       ca_cases_per_date.append(ca[i]['cases'])\n",
    "       ca_dates.append(ca[i]['date'])\n",
    "       ca_deaths.append(ca[i]['deaths'])"
   ]
  },
  {
   "cell_type": "code",
   "execution_count": 16,
   "metadata": {},
   "outputs": [
    {
     "data": {
      "text/html": [
       "<div>\n",
       "<style scoped>\n",
       "    .dataframe tbody tr th:only-of-type {\n",
       "        vertical-align: middle;\n",
       "    }\n",
       "\n",
       "    .dataframe tbody tr th {\n",
       "        vertical-align: top;\n",
       "    }\n",
       "\n",
       "    .dataframe thead th {\n",
       "        text-align: right;\n",
       "    }\n",
       "</style>\n",
       "<table border=\"1\" class=\"dataframe\">\n",
       "  <thead>\n",
       "    <tr style=\"text-align: right;\">\n",
       "      <th></th>\n",
       "      <th>Date</th>\n",
       "      <th>Total Cases to Date</th>\n",
       "      <th>Deaths</th>\n",
       "    </tr>\n",
       "  </thead>\n",
       "  <tbody>\n",
       "    <tr>\n",
       "      <th>0</th>\n",
       "      <td>2020-01-25</td>\n",
       "      <td>1.0</td>\n",
       "      <td>0</td>\n",
       "    </tr>\n",
       "    <tr>\n",
       "      <th>1</th>\n",
       "      <td>2020-01-26</td>\n",
       "      <td>2.0</td>\n",
       "      <td>0</td>\n",
       "    </tr>\n",
       "    <tr>\n",
       "      <th>2</th>\n",
       "      <td>2020-01-27</td>\n",
       "      <td>2.0</td>\n",
       "      <td>0</td>\n",
       "    </tr>\n",
       "    <tr>\n",
       "      <th>3</th>\n",
       "      <td>2020-01-28</td>\n",
       "      <td>2.0</td>\n",
       "      <td>0</td>\n",
       "    </tr>\n",
       "    <tr>\n",
       "      <th>4</th>\n",
       "      <td>2020-01-29</td>\n",
       "      <td>2.0</td>\n",
       "      <td>0</td>\n",
       "    </tr>\n",
       "  </tbody>\n",
       "</table>\n",
       "</div>"
      ],
      "text/plain": [
       "        Date  Total Cases to Date  Deaths\n",
       "0 2020-01-25                  1.0       0\n",
       "1 2020-01-26                  2.0       0\n",
       "2 2020-01-27                  2.0       0\n",
       "3 2020-01-28                  2.0       0\n",
       "4 2020-01-29                  2.0       0"
      ]
     },
     "execution_count": 16,
     "metadata": {},
     "output_type": "execute_result"
    }
   ],
   "source": [
    "# Coverted to datetime to be able manipulate data as needed for California\n",
    "ca_df = pd.DataFrame({'Date':ca_dates,\n",
    "                        'Total Cases to Date':ca_cases_per_date,\n",
    "                            'Deaths':ca_deaths})\n",
    "\n",
    "ca_df['Date'] = pd.to_datetime(ca_df['Date'])\n",
    "ca_df.head()"
   ]
  },
  {
   "cell_type": "code",
   "execution_count": 17,
   "metadata": {},
   "outputs": [
    {
     "data": {
      "text/html": [
       "<div>\n",
       "<style scoped>\n",
       "    .dataframe tbody tr th:only-of-type {\n",
       "        vertical-align: middle;\n",
       "    }\n",
       "\n",
       "    .dataframe tbody tr th {\n",
       "        vertical-align: top;\n",
       "    }\n",
       "\n",
       "    .dataframe thead th {\n",
       "        text-align: right;\n",
       "    }\n",
       "</style>\n",
       "<table border=\"1\" class=\"dataframe\">\n",
       "  <thead>\n",
       "    <tr style=\"text-align: right;\">\n",
       "      <th></th>\n",
       "      <th>Date</th>\n",
       "      <th>Total Cases to Date</th>\n",
       "      <th>Deaths</th>\n",
       "    </tr>\n",
       "  </thead>\n",
       "  <tbody>\n",
       "    <tr>\n",
       "      <th>0</th>\n",
       "      <td>2020-01</td>\n",
       "      <td>3.0</td>\n",
       "      <td>0</td>\n",
       "    </tr>\n",
       "    <tr>\n",
       "      <th>1</th>\n",
       "      <td>2020-02</td>\n",
       "      <td>28.0</td>\n",
       "      <td>0</td>\n",
       "    </tr>\n",
       "    <tr>\n",
       "      <th>2</th>\n",
       "      <td>2020-03</td>\n",
       "      <td>8583.0</td>\n",
       "      <td>184</td>\n",
       "    </tr>\n",
       "    <tr>\n",
       "      <th>3</th>\n",
       "      <td>2020-04</td>\n",
       "      <td>50470.0</td>\n",
       "      <td>2057</td>\n",
       "    </tr>\n",
       "    <tr>\n",
       "      <th>4</th>\n",
       "      <td>2020-05</td>\n",
       "      <td>113114.0</td>\n",
       "      <td>4242</td>\n",
       "    </tr>\n",
       "  </tbody>\n",
       "</table>\n",
       "</div>"
      ],
      "text/plain": [
       "      Date  Total Cases to Date  Deaths\n",
       "0  2020-01                  3.0       0\n",
       "1  2020-02                 28.0       0\n",
       "2  2020-03               8583.0     184\n",
       "3  2020-04              50470.0    2057\n",
       "4  2020-05             113114.0    4242"
      ]
     },
     "execution_count": 17,
     "metadata": {},
     "output_type": "execute_result"
    }
   ],
   "source": [
    "# Grouped data by the month with the max number of cases and deaths per for California/Final DataFrame\n",
    "california_df = pd.DataFrame(ca_df.groupby(pd.Grouper(key='Date', freq='M')).max())\n",
    "\n",
    "california_df2 = california_df.reset_index()\n",
    "\n",
    "california_df2['Date'] = california_df2['Date'].dt.strftime('%Y-%m')\n",
    "\n",
    "california_df2.head()"
   ]
  },
  {
   "cell_type": "code",
   "execution_count": 18,
   "metadata": {},
   "outputs": [],
   "source": [
    "# Parameter for charts\n",
    "plt.rcParams[\"figure.figsize\"] = (15,5.5)"
   ]
  },
  {
   "cell_type": "code",
   "execution_count": 19,
   "metadata": {},
   "outputs": [
    {
     "data": {
      "image/png": "[encoded data removed]",
      "text/plain": [
       "<Figure size 1080x396 with 1 Axes>"
      ]
     },
     "metadata": {
      "needs_background": "light"
     },
     "output_type": "display_data"
    }
   ],
   "source": [
    "# California Chart\n",
    "ca_months = california_df2['Date']\n",
    "ca_cases = california_df2['Total Cases to Date']\n",
    "\n",
    "ax = plt.subplot(111)\n",
    "l = ax.fill_between(ca_months, ca_cases)\n",
    "\n",
    "# Labels\n",
    "xlab = ax.xaxis.get_label()\n",
    "ylab = ax.yaxis.get_label()\n",
    "\n",
    "plt.plot(ca_months, ca_cases)\n",
    "plt.title('California Covid Cases')\n",
    "plt.xlabel('Year/Month')\n",
    "plt.ylabel('Amount Per (Million)')\n",
    "plt.xticks(rotation = 90)\n",
    "\n",
    "ax.spines['right'].set_color((.8,.8,.8))\n",
    "ax.spines['top'].set_color((.8,.8,.8))\n",
    "\n",
    "xlab.set_style('italic')\n",
    "xlab.set_size(13)\n",
    "ylab.set_style('italic')\n",
    "ylab.set_size(13)\n",
    "\n",
    "# Title\n",
    "ttl = ax.title\n",
    "ttl.set_size(20)\n",
    "ttl.set_weight('bold')\n",
    "\n",
    "ax.grid('on')\n",
    "plt.show()\n"
   ]
  },
  {
   "cell_type": "code",
   "execution_count": 36,
   "metadata": {},
   "outputs": [
    {
     "data": {
      "image/png": "[encoded data removed]",
      "text/plain": [
       "<Figure size 1080x396 with 1 Axes>"
      ]
     },
     "metadata": {
      "needs_background": "light"
     },
     "output_type": "display_data"
    }
   ],
   "source": [
    "# California Chart\n",
    "ca_deaths_per_date = california_df2['Deaths']\n",
    "\n",
    "ax = plt.subplot(111)\n",
    "l = ax.fill_between(ca_months, ca_deaths_per_date)\n",
    "\n",
    "# Labels\n",
    "xlab = ax.xaxis.get_label()\n",
    "ylab = ax.yaxis.get_label()\n",
    "\n",
    "plt.plot(ca_months, ca_deaths_per_date)\n",
    "plt.title('California Covid Deaths')\n",
    "plt.xlabel('Year/Month')\n",
    "plt.ylabel('Amount Per')\n",
    "plt.xticks(rotation = 90)\n",
    "\n",
    "ax.spines['right'].set_color((.8,.8,.8))\n",
    "ax.spines['top'].set_color((.8,.8,.8))\n",
    "\n",
    "xlab.set_style('italic')\n",
    "xlab.set_size(13)\n",
    "ylab.set_style('italic')\n",
    "ylab.set_size(13)\n",
    "\n",
    "# Title\n",
    "ttl = ax.title\n",
    "ttl.set_size(20)\n",
    "ttl.set_weight('bold')\n",
    "\n",
    "ax.grid('on')\n",
    "plt.show()"
   ]
  },
  {
   "cell_type": "code",
   "execution_count": null,
   "metadata": {},
   "outputs": [],
   "source": []
  },
  {
   "cell_type": "code",
   "execution_count": 21,
   "metadata": {},
   "outputs": [],
   "source": [
    "# Texas\n",
    "headers = {\n",
    "        'Accept': 'application/json',\n",
    "        'content-Type': 'application/json'\n",
    "}\n",
    "response = requests.get(f\"https://api.covidactnow.org/v2/state/{states[1]}.timeseries.json?apiKey={covid}\", headers=headers, data={})\n",
    "myjson = response.json()"
   ]
  },
  {
   "cell_type": "code",
   "execution_count": 22,
   "metadata": {},
   "outputs": [],
   "source": [
    "# Extracting specified data from json file for Texas\n",
    "\n",
    "tx_cases_per_date = []\n",
    "tx_dates = []\n",
    "tx_deaths = []\n",
    "\n",
    "tx = myjson['actualsTimeseries']\n",
    "\n",
    "for i in range(len(tx)):\n",
    "       tx_cases_per_date.append(tx[i]['cases'])\n",
    "       tx_dates.append(tx[i]['date'])\n",
    "       tx_deaths.append(tx[i]['deaths'])"
   ]
  },
  {
   "cell_type": "code",
   "execution_count": 23,
   "metadata": {},
   "outputs": [
    {
     "data": {
      "text/html": [
       "<div>\n",
       "<style scoped>\n",
       "    .dataframe tbody tr th:only-of-type {\n",
       "        vertical-align: middle;\n",
       "    }\n",
       "\n",
       "    .dataframe tbody tr th {\n",
       "        vertical-align: top;\n",
       "    }\n",
       "\n",
       "    .dataframe thead th {\n",
       "        text-align: right;\n",
       "    }\n",
       "</style>\n",
       "<table border=\"1\" class=\"dataframe\">\n",
       "  <thead>\n",
       "    <tr style=\"text-align: right;\">\n",
       "      <th></th>\n",
       "      <th>Date</th>\n",
       "      <th>Total Cases to Date</th>\n",
       "      <th>Deaths</th>\n",
       "    </tr>\n",
       "  </thead>\n",
       "  <tbody>\n",
       "    <tr>\n",
       "      <th>0</th>\n",
       "      <td>2020-02-12</td>\n",
       "      <td>1.0</td>\n",
       "      <td>0</td>\n",
       "    </tr>\n",
       "    <tr>\n",
       "      <th>1</th>\n",
       "      <td>2020-02-13</td>\n",
       "      <td>2.0</td>\n",
       "      <td>0</td>\n",
       "    </tr>\n",
       "    <tr>\n",
       "      <th>2</th>\n",
       "      <td>2020-02-14</td>\n",
       "      <td>2.0</td>\n",
       "      <td>0</td>\n",
       "    </tr>\n",
       "    <tr>\n",
       "      <th>3</th>\n",
       "      <td>2020-02-15</td>\n",
       "      <td>2.0</td>\n",
       "      <td>0</td>\n",
       "    </tr>\n",
       "    <tr>\n",
       "      <th>4</th>\n",
       "      <td>2020-02-16</td>\n",
       "      <td>2.0</td>\n",
       "      <td>0</td>\n",
       "    </tr>\n",
       "  </tbody>\n",
       "</table>\n",
       "</div>"
      ],
      "text/plain": [
       "        Date  Total Cases to Date  Deaths\n",
       "0 2020-02-12                  1.0       0\n",
       "1 2020-02-13                  2.0       0\n",
       "2 2020-02-14                  2.0       0\n",
       "3 2020-02-15                  2.0       0\n",
       "4 2020-02-16                  2.0       0"
      ]
     },
     "execution_count": 23,
     "metadata": {},
     "output_type": "execute_result"
    }
   ],
   "source": [
    "# Coverted to datetime to be able manipulate data as needed for Texas\n",
    "tx_df = pd.DataFrame({'Date':tx_dates,\n",
    "                        'Total Cases to Date':tx_cases_per_date,\n",
    "                            'Deaths':tx_deaths})\n",
    "\n",
    "tx_df['Date'] = pd.to_datetime(tx_df['Date'])\n",
    "tx_df.head()"
   ]
  },
  {
   "cell_type": "code",
   "execution_count": 24,
   "metadata": {},
   "outputs": [
    {
     "data": {
      "text/html": [
       "<div>\n",
       "<style scoped>\n",
       "    .dataframe tbody tr th:only-of-type {\n",
       "        vertical-align: middle;\n",
       "    }\n",
       "\n",
       "    .dataframe tbody tr th {\n",
       "        vertical-align: top;\n",
       "    }\n",
       "\n",
       "    .dataframe thead th {\n",
       "        text-align: right;\n",
       "    }\n",
       "</style>\n",
       "<table border=\"1\" class=\"dataframe\">\n",
       "  <thead>\n",
       "    <tr style=\"text-align: right;\">\n",
       "      <th></th>\n",
       "      <th>Date</th>\n",
       "      <th>Total Cases to Date</th>\n",
       "      <th>Deaths</th>\n",
       "    </tr>\n",
       "  </thead>\n",
       "  <tbody>\n",
       "    <tr>\n",
       "      <th>0</th>\n",
       "      <td>2020-01</td>\n",
       "      <td>3.0</td>\n",
       "      <td>0</td>\n",
       "    </tr>\n",
       "    <tr>\n",
       "      <th>1</th>\n",
       "      <td>2020-02</td>\n",
       "      <td>28.0</td>\n",
       "      <td>0</td>\n",
       "    </tr>\n",
       "    <tr>\n",
       "      <th>2</th>\n",
       "      <td>2020-03</td>\n",
       "      <td>8583.0</td>\n",
       "      <td>184</td>\n",
       "    </tr>\n",
       "    <tr>\n",
       "      <th>3</th>\n",
       "      <td>2020-04</td>\n",
       "      <td>50470.0</td>\n",
       "      <td>2057</td>\n",
       "    </tr>\n",
       "    <tr>\n",
       "      <th>4</th>\n",
       "      <td>2020-05</td>\n",
       "      <td>113114.0</td>\n",
       "      <td>4242</td>\n",
       "    </tr>\n",
       "  </tbody>\n",
       "</table>\n",
       "</div>"
      ],
      "text/plain": [
       "      Date  Total Cases to Date  Deaths\n",
       "0  2020-01                  3.0       0\n",
       "1  2020-02                 28.0       0\n",
       "2  2020-03               8583.0     184\n",
       "3  2020-04              50470.0    2057\n",
       "4  2020-05             113114.0    4242"
      ]
     },
     "execution_count": 24,
     "metadata": {},
     "output_type": "execute_result"
    }
   ],
   "source": [
    "# Grouped data by the month wtih the max number of cases and deaths per for Texas/Final DataFrame\n",
    "texas_df = pd.DataFrame(ca_df.groupby(pd.Grouper(key='Date', freq='M')).max())\n",
    "\n",
    "texas_df2 = texas_df.reset_index()\n",
    "\n",
    "texas_df2['Date'] = texas_df2['Date'].dt.strftime('%Y-%m')\n",
    "\n",
    "texas_df2.head()"
   ]
  },
  {
   "cell_type": "code",
   "execution_count": 25,
   "metadata": {},
   "outputs": [
    {
     "data": {
      "image/png": "[encoded data removed]",
      "text/plain": [
       "<Figure size 1080x396 with 1 Axes>"
      ]
     },
     "metadata": {
      "needs_background": "light"
     },
     "output_type": "display_data"
    }
   ],
   "source": [
    "# Texas Chart\n",
    "tx_months = texas_df2['Date']\n",
    "tx_cases = texas_df2['Total Cases to Date']\n",
    "\n",
    "ax = plt.subplot(111)\n",
    "l = ax.fill_between(tx_months, tx_cases)\n",
    "\n",
    "# Labels\n",
    "xlab = ax.xaxis.get_label()\n",
    "ylab = ax.yaxis.get_label()\n",
    "\n",
    "plt.plot(tx_months, tx_cases)\n",
    "plt.title('Texas Covid Cases')\n",
    "plt.xlabel('Year/Month')\n",
    "plt.ylabel('Amount Per (Million)')\n",
    "plt.xticks(rotation = 90)\n",
    "\n",
    "ax.spines['right'].set_color((.8,.8,.8))\n",
    "ax.spines['top'].set_color((.8,.8,.8))\n",
    "\n",
    "xlab.set_style('italic')\n",
    "xlab.set_size(13)\n",
    "ylab.set_style('italic')\n",
    "ylab.set_size(13)\n",
    "\n",
    "# Title\n",
    "ttl = ax.title\n",
    "ttl.set_size(20)\n",
    "ttl.set_weight('bold')\n",
    "\n",
    "ax.grid('on')\n",
    "plt.show()"
   ]
  },
  {
   "cell_type": "code",
   "execution_count": 37,
   "metadata": {},
   "outputs": [
    {
     "data": {
      "image/png": "[encoded data removed]",
      "text/plain": [
       "<Figure size 1080x396 with 1 Axes>"
      ]
     },
     "metadata": {
      "needs_background": "light"
     },
     "output_type": "display_data"
    }
   ],
   "source": [
    "# Texas Chart\n",
    "tx_deaths_per_date = texas_df2['Deaths']\n",
    "\n",
    "ax = plt.subplot(111)\n",
    "l = ax.fill_between(tx_months, tx_deaths_per_date)\n",
    "\n",
    "# Tweaking of Labels\n",
    "xlab = ax.xaxis.get_label()\n",
    "ylab = ax.yaxis.get_label()\n",
    "\n",
    "plt.plot(tx_months, tx_deaths_per_date)\n",
    "plt.title('Texas Covid Deaths')\n",
    "plt.xlabel('Year/Month')\n",
    "plt.ylabel('Amount Per')\n",
    "plt.xticks(rotation = 90)\n",
    "\n",
    "ax.spines['right'].set_color((.8,.8,.8))\n",
    "ax.spines['top'].set_color((.8,.8,.8))\n",
    "\n",
    "xlab.set_style('italic')\n",
    "xlab.set_size(13)\n",
    "ylab.set_style('italic')\n",
    "ylab.set_size(13)\n",
    "\n",
    "# tweak the title\n",
    "ttl = ax.title\n",
    "ttl.set_size(20)\n",
    "ttl.set_weight('bold')\n",
    "\n",
    "ax.grid('on')\n",
    "plt.show()"
   ]
  },
  {
   "cell_type": "code",
   "execution_count": null,
   "metadata": {},
   "outputs": [],
   "source": []
  },
  {
   "cell_type": "code",
   "execution_count": 27,
   "metadata": {},
   "outputs": [],
   "source": [
    "# New York\n",
    "headers = {\n",
    "        'Accept': 'application/json',\n",
    "        'content-Type': 'application/json'\n",
    "}\n",
    "response = requests.get(f\"https://api.covidactnow.org/v2/state/{states[2]}.timeseries.json?apiKey={covid}\", headers=headers, data={})\n",
    "myjson = response.json()"
   ]
  },
  {
   "cell_type": "code",
   "execution_count": 28,
   "metadata": {},
   "outputs": [],
   "source": [
    "# Extracting specified data from json file for New York\n",
    "\n",
    "ny_cases_per_date = []\n",
    "ny_dates = []\n",
    "ny_deaths = []\n",
    "\n",
    "ny = myjson['actualsTimeseries']\n",
    "\n",
    "for i in range(len(ny)):\n",
    "       ny_cases_per_date.append(ny[i]['cases'])\n",
    "       ny_dates.append(ny[i]['date'])\n",
    "       ny_deaths.append(ny[i]['deaths'])"
   ]
  },
  {
   "cell_type": "code",
   "execution_count": 29,
   "metadata": {},
   "outputs": [
    {
     "data": {
      "text/html": [
       "<div>\n",
       "<style scoped>\n",
       "    .dataframe tbody tr th:only-of-type {\n",
       "        vertical-align: middle;\n",
       "    }\n",
       "\n",
       "    .dataframe tbody tr th {\n",
       "        vertical-align: top;\n",
       "    }\n",
       "\n",
       "    .dataframe thead th {\n",
       "        text-align: right;\n",
       "    }\n",
       "</style>\n",
       "<table border=\"1\" class=\"dataframe\">\n",
       "  <thead>\n",
       "    <tr style=\"text-align: right;\">\n",
       "      <th></th>\n",
       "      <th>Date</th>\n",
       "      <th>Total Cases to Date</th>\n",
       "      <th>Deaths</th>\n",
       "    </tr>\n",
       "  </thead>\n",
       "  <tbody>\n",
       "    <tr>\n",
       "      <th>0</th>\n",
       "      <td>2020-03-01</td>\n",
       "      <td>1.0</td>\n",
       "      <td>0</td>\n",
       "    </tr>\n",
       "    <tr>\n",
       "      <th>1</th>\n",
       "      <td>2020-03-02</td>\n",
       "      <td>1.0</td>\n",
       "      <td>0</td>\n",
       "    </tr>\n",
       "    <tr>\n",
       "      <th>2</th>\n",
       "      <td>2020-03-03</td>\n",
       "      <td>2.0</td>\n",
       "      <td>0</td>\n",
       "    </tr>\n",
       "    <tr>\n",
       "      <th>3</th>\n",
       "      <td>2020-03-04</td>\n",
       "      <td>11.0</td>\n",
       "      <td>0</td>\n",
       "    </tr>\n",
       "    <tr>\n",
       "      <th>4</th>\n",
       "      <td>2020-03-05</td>\n",
       "      <td>22.0</td>\n",
       "      <td>0</td>\n",
       "    </tr>\n",
       "  </tbody>\n",
       "</table>\n",
       "</div>"
      ],
      "text/plain": [
       "        Date  Total Cases to Date  Deaths\n",
       "0 2020-03-01                  1.0       0\n",
       "1 2020-03-02                  1.0       0\n",
       "2 2020-03-03                  2.0       0\n",
       "3 2020-03-04                 11.0       0\n",
       "4 2020-03-05                 22.0       0"
      ]
     },
     "execution_count": 29,
     "metadata": {},
     "output_type": "execute_result"
    }
   ],
   "source": [
    "# Coverted to datetime to be able manipulate data as needed for New York\n",
    "ny_df = pd.DataFrame({'Date':ny_dates,\n",
    "                        'Total Cases to Date':ny_cases_per_date,\n",
    "                            'Deaths':ny_deaths})\n",
    "\n",
    "ny_df['Date'] = pd.to_datetime(ny_df['Date'])\n",
    "ny_df.head()"
   ]
  },
  {
   "cell_type": "code",
   "execution_count": 30,
   "metadata": {},
   "outputs": [
    {
     "data": {
      "text/html": [
       "<div>\n",
       "<style scoped>\n",
       "    .dataframe tbody tr th:only-of-type {\n",
       "        vertical-align: middle;\n",
       "    }\n",
       "\n",
       "    .dataframe tbody tr th {\n",
       "        vertical-align: top;\n",
       "    }\n",
       "\n",
       "    .dataframe thead th {\n",
       "        text-align: right;\n",
       "    }\n",
       "</style>\n",
       "<table border=\"1\" class=\"dataframe\">\n",
       "  <thead>\n",
       "    <tr style=\"text-align: right;\">\n",
       "      <th></th>\n",
       "      <th>Date</th>\n",
       "      <th>Total Cases to Date</th>\n",
       "      <th>Deaths</th>\n",
       "    </tr>\n",
       "  </thead>\n",
       "  <tbody>\n",
       "    <tr>\n",
       "      <th>0</th>\n",
       "      <td>2020-01</td>\n",
       "      <td>3.0</td>\n",
       "      <td>0</td>\n",
       "    </tr>\n",
       "    <tr>\n",
       "      <th>1</th>\n",
       "      <td>2020-02</td>\n",
       "      <td>28.0</td>\n",
       "      <td>0</td>\n",
       "    </tr>\n",
       "    <tr>\n",
       "      <th>2</th>\n",
       "      <td>2020-03</td>\n",
       "      <td>8583.0</td>\n",
       "      <td>184</td>\n",
       "    </tr>\n",
       "    <tr>\n",
       "      <th>3</th>\n",
       "      <td>2020-04</td>\n",
       "      <td>50470.0</td>\n",
       "      <td>2057</td>\n",
       "    </tr>\n",
       "    <tr>\n",
       "      <th>4</th>\n",
       "      <td>2020-05</td>\n",
       "      <td>113114.0</td>\n",
       "      <td>4242</td>\n",
       "    </tr>\n",
       "  </tbody>\n",
       "</table>\n",
       "</div>"
      ],
      "text/plain": [
       "      Date  Total Cases to Date  Deaths\n",
       "0  2020-01                  3.0       0\n",
       "1  2020-02                 28.0       0\n",
       "2  2020-03               8583.0     184\n",
       "3  2020-04              50470.0    2057\n",
       "4  2020-05             113114.0    4242"
      ]
     },
     "execution_count": 30,
     "metadata": {},
     "output_type": "execute_result"
    }
   ],
   "source": [
    "# Grouped data by the month wtih the max number of cases and deaths per for New York/Final DataFrame\n",
    "new_york_df = pd.DataFrame(ca_df.groupby(pd.Grouper(key='Date', freq='M')).max())\n",
    "\n",
    "new_york_df2 = new_york_df.reset_index()\n",
    "\n",
    "new_york_df2['Date'] = new_york_df2['Date'].dt.strftime('%Y-%m')\n",
    "\n",
    "new_york_df2.head()"
   ]
  },
  {
   "cell_type": "code",
   "execution_count": 33,
   "metadata": {},
   "outputs": [
    {
     "data": {
      "image/png": "[encoded data removed]",
      "text/plain": [
       "<Figure size 1080x396 with 1 Axes>"
      ]
     },
     "metadata": {
      "needs_background": "light"
     },
     "output_type": "display_data"
    }
   ],
   "source": [
    "ny_months = new_york_df2['Date']\n",
    "ny_cases = new_york_df2['Total Cases to Date']\n",
    "\n",
    "ax = plt.subplot(111)\n",
    "l = ax.fill_between(ny_months, ny_cases)\n",
    "\n",
    "# Labels\n",
    "xlab = ax.xaxis.get_label()\n",
    "ylab = ax.yaxis.get_label()\n",
    "\n",
    "plt.plot(ny_months, ny_cases)\n",
    "plt.title('New York Covid Cases')\n",
    "plt.xlabel('Year/Month')\n",
    "plt.ylabel('Amount Per (Million)')\n",
    "plt.xticks(rotation = 90)\n",
    "\n",
    "ax.spines['right'].set_color((.8,.8,.8))\n",
    "ax.spines['top'].set_color((.8,.8,.8))\n",
    "\n",
    "xlab.set_style('italic')\n",
    "xlab.set_size(13)\n",
    "ylab.set_style('italic')\n",
    "ylab.set_size(13)\n",
    "\n",
    "# Title\n",
    "ttl = ax.title\n",
    "ttl.set_size(20)\n",
    "ttl.set_weight('bold')\n",
    "\n",
    "ax.grid('on')\n",
    "plt.show()"
   ]
  },
  {
   "cell_type": "code",
   "execution_count": 38,
   "metadata": {},
   "outputs": [
    {
     "data": {
      "image/png": "[encoded data removed]",
      "text/plain": [
       "<Figure size 1080x396 with 1 Axes>"
      ]
     },
     "metadata": {
      "needs_background": "light"
     },
     "output_type": "display_data"
    }
   ],
   "source": [
    "ny_deaths_per_date = new_york_df2['Deaths']\n",
    "\n",
    "ax = plt.subplot(111)\n",
    "l = ax.fill_between(ny_months, ny_deaths_per_date)\n",
    "\n",
    "# Tweaking of Labels\n",
    "xlab = ax.xaxis.get_label()\n",
    "ylab = ax.yaxis.get_label()\n",
    "\n",
    "plt.plot(ny_months, ny_deaths_per_date)\n",
    "plt.title('New York Covid Deaths')\n",
    "plt.xlabel('Year/Month')\n",
    "plt.ylabel('Amount Per')\n",
    "plt.xticks(rotation = 90)\n",
    "\n",
    "ax.spines['right'].set_color((.8,.8,.8))\n",
    "ax.spines['top'].set_color((.8,.8,.8))\n",
    "\n",
    "xlab.set_style('italic')\n",
    "xlab.set_size(13)\n",
    "ylab.set_style('italic')\n",
    "ylab.set_size(13)\n",
    "\n",
    "# tweak the title\n",
    "ttl = ax.title\n",
    "ttl.set_size(20)\n",
    "ttl.set_weight('bold')\n",
    "\n",
    "ax.grid('on')\n",
    "plt.show()"
   ]
  }
 ],
 "metadata": {
  "interpreter": {
   "hash": "6e18270aece4886438592095eb7c4077958764c12b3c7681de976e15e7101ea7"
  },
  "kernelspec": {
   "display_name": "Python 3.9.7 ('base')",
   "language": "python",
   "name": "python3"
  },
  "language_info": {
   "codemirror_mode": {
    "name": "ipython",
    "version": 3
   },
   "file_extension": ".py",
   "mimetype": "text/x-python",
   "name": "python",
   "nbconvert_exporter": "python",
   "pygments_lexer": "ipython3",
   "version": "3.9.7"
  },
  "orig_nbformat": 4
 },
 "nbformat": 4,
 "nbformat_minor": 2
}
